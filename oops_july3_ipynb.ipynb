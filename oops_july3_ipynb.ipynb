{
  "nbformat": 4,
  "nbformat_minor": 0,
  "metadata": {
    "colab": {
      "provenance": []
    },
    "kernelspec": {
      "name": "python3",
      "display_name": "Python 3"
    },
    "language_info": {
      "name": "python"
    }
  },
  "cells": [
    {
      "cell_type": "code",
      "source": [
        "class Name:\n",
        "  def greet(self):\n",
        "    return \"hello \"+self.name\n",
        "p1=Name()\n",
        "p1.name=\"tiger\"\n",
        "p1.greet()"
      ],
      "metadata": {
        "id": "IMV3ko2gayOd",
        "colab": {
          "base_uri": "https://localhost:8080/",
          "height": 36
        },
        "outputId": "26d80916-8410-42d4-96e3-5bdf443c6703"
      },
      "execution_count": 18,
      "outputs": [
        {
          "output_type": "execute_result",
          "data": {
            "text/plain": [
              "'hello tiger'"
            ],
            "application/vnd.google.colaboratory.intrinsic+json": {
              "type": "string"
            }
          },
          "metadata": {},
          "execution_count": 18
        }
      ]
    },
    {
      "cell_type": "code",
      "source": [
        "class Name1:\n",
        "  def __init__(self,name):\n",
        "    self.x=name\n",
        "  def greet(self):\n",
        "    return \"hello \"+self.x\n",
        "  p1=Name()\n",
        "  p1.name=\"vidya\"\n",
        "  p1.greet()"
      ],
      "metadata": {
        "id": "OLvPaZK1ayIF"
      },
      "execution_count": 21,
      "outputs": []
    },
    {
      "cell_type": "code",
      "source": [
        "p1.name=\"vidya\"\n",
        "p1.greet()"
      ],
      "metadata": {
        "colab": {
          "base_uri": "https://localhost:8080/",
          "height": 36
        },
        "id": "pS8RmzgX49fq",
        "outputId": "8edc66a5-45b4-4850-c856-8178afa53f5a"
      },
      "execution_count": 22,
      "outputs": [
        {
          "output_type": "execute_result",
          "data": {
            "text/plain": [
              "'hello vidya'"
            ],
            "application/vnd.google.colaboratory.intrinsic+json": {
              "type": "string"
            }
          },
          "metadata": {},
          "execution_count": 22
        }
      ]
    },
    {
      "cell_type": "code",
      "source": [
        "#TypeError: Marks.__init__() missing 1 required positional argument: 'attendance'\n",
        "\n",
        "class Marks:\n",
        "  def __init__(self,marks,attendance):\n",
        "    self.marks=marks\n",
        "    self.attendance=attendance\n",
        "  def grade(self):\n",
        "    if self.marks<35:\n",
        "      return \"fail\"\n",
        "    elif self.marks<60:\n",
        "      return \"3rd class\"\n",
        "    elif self.marks<90:\n",
        "      return \"first class\"\n",
        "  def attendance_grade(self):\n",
        "    if self.attendance<100:\n",
        "      return \"fail\"\n",
        "    elif self.attendance<=200:\n",
        "      return \"pass\"\n",
        "\n",
        "student1=Marks(40,200)\n",
        "student1.attendance_grade()\n"
      ],
      "metadata": {
        "id": "KDiXIsNfayBV",
        "colab": {
          "base_uri": "https://localhost:8080/",
          "height": 36
        },
        "outputId": "ba0596a3-ed8f-4b07-c3fb-45ea9c561c62"
      },
      "execution_count": 26,
      "outputs": [
        {
          "output_type": "execute_result",
          "data": {
            "text/plain": [
              "'pass'"
            ],
            "application/vnd.google.colaboratory.intrinsic+json": {
              "type": "string"
            }
          },
          "metadata": {},
          "execution_count": 26
        }
      ]
    },
    {
      "cell_type": "code",
      "source": [
        "#TypeError: Marks.__init__() missing 1 required positional argument: 'attendance'\n",
        "\n",
        "class Marks:\n",
        "  def __init__(self,marks,attendance):\n",
        "    self.marks=marks\n",
        "    self.attendance=attendance\n",
        "  def marks_grade(self):\n",
        "    if self.marks<35:\n",
        "      return \"fail\"\n",
        "    elif self.marks<60:\n",
        "      return \"3rd class\"\n",
        "    elif self.marks<90:\n",
        "      return \"first class\"\n",
        "  def attendance_grade(self):\n",
        "    if self.attendance<100:\n",
        "      return \"fail\"\n",
        "    elif self.attendance<=200:\n",
        "      return \"pass\"\n",
        "\n",
        "student1=Marks(80,200)\n",
        "student1.marks_grade()\n"
      ],
      "metadata": {
        "colab": {
          "base_uri": "https://localhost:8080/",
          "height": 36
        },
        "id": "CRJJPmt55WMe",
        "outputId": "b91cc9a8-c7f7-4165-88d2-8973fe6c985e"
      },
      "execution_count": 30,
      "outputs": [
        {
          "output_type": "execute_result",
          "data": {
            "text/plain": [
              "'first class'"
            ],
            "application/vnd.google.colaboratory.intrinsic+json": {
              "type": "string"
            }
          },
          "metadata": {},
          "execution_count": 30
        }
      ]
    },
    {
      "cell_type": "code",
      "source": [
        "import math\n",
        "math.pi"
      ],
      "metadata": {
        "colab": {
          "base_uri": "https://localhost:8080/"
        },
        "id": "0t357ODTjLzV",
        "outputId": "25889b98-dc05-4c58-f7f9-5045209ff36c"
      },
      "execution_count": 40,
      "outputs": [
        {
          "output_type": "execute_result",
          "data": {
            "text/plain": [
              "3.141592653589793"
            ]
          },
          "metadata": {},
          "execution_count": 40
        }
      ]
    },
    {
      "cell_type": "code",
      "source": [
        "class CircleProperties:\n",
        "  def __init__(self,r):\n",
        "    self.r=r\n",
        "  def area(self):\n",
        "    return math.pi*self.r*self.r\n",
        "  def circ(self):\n",
        "    return math.pi*2*self.r"
      ],
      "metadata": {
        "id": "NgDDtusLax0U"
      },
      "execution_count": 41,
      "outputs": []
    },
    {
      "cell_type": "code",
      "source": [
        "object1=CircleProperties(40)\n",
        "object1.area()"
      ],
      "metadata": {
        "colab": {
          "base_uri": "https://localhost:8080/"
        },
        "id": "RwhncLzIj5Lc",
        "outputId": "e3a2a5ca-ebd3-428a-eb8a-a894d16afffe"
      },
      "execution_count": 42,
      "outputs": [
        {
          "output_type": "execute_result",
          "data": {
            "text/plain": [
              "5026.548245743669"
            ]
          },
          "metadata": {},
          "execution_count": 42
        }
      ]
    },
    {
      "cell_type": "code",
      "source": [
        "object1=CircleProperties(20)\n",
        "object1.circ()"
      ],
      "metadata": {
        "colab": {
          "base_uri": "https://localhost:8080/"
        },
        "id": "KNX28q0Fj5JU",
        "outputId": "dd59f69c-65c4-4ba0-ef6b-4afa84dd3bf9"
      },
      "execution_count": null,
      "outputs": [
        {
          "output_type": "execute_result",
          "data": {
            "text/plain": [
              "125.66370614359172"
            ]
          },
          "metadata": {},
          "execution_count": 27
        }
      ]
    },
    {
      "cell_type": "code",
      "source": [
        "object1=CircleProperties(10)\n",
        "object1.r"
      ],
      "metadata": {
        "colab": {
          "base_uri": "https://localhost:8080/"
        },
        "id": "tKJKdInhj5G7",
        "outputId": "caf9b6eb-c726-42db-8a19-3896f464737a"
      },
      "execution_count": 43,
      "outputs": [
        {
          "output_type": "execute_result",
          "data": {
            "text/plain": [
              "10"
            ]
          },
          "metadata": {},
          "execution_count": 43
        }
      ]
    },
    {
      "cell_type": "code",
      "source": [
        "class Marks:\n",
        "  def __init__(self,marks,attendance):\n",
        "    self.marks=marks\n",
        "    self.attendance=attendance\n",
        "\n",
        "  def attendance_grade(self):\n",
        "    if self.attendance<=100:\n",
        "      return \"fail\"\n",
        "    elif self.attendance<200:\n",
        "      return \"pass\"\n",
        "\n",
        "student1=Marks(40,100)\n",
        "student1.attendance_grade()\n"
      ],
      "metadata": {
        "id": "qgXoYPBFaxul",
        "colab": {
          "base_uri": "https://localhost:8080/",
          "height": 36
        },
        "outputId": "42e496ef-3b78-4611-d907-b962e181beb0"
      },
      "execution_count": 46,
      "outputs": [
        {
          "output_type": "execute_result",
          "data": {
            "text/plain": [
              "'fail'"
            ],
            "application/vnd.google.colaboratory.intrinsic+json": {
              "type": "string"
            }
          },
          "metadata": {},
          "execution_count": 46
        }
      ]
    },
    {
      "cell_type": "code",
      "source": [
        "class Rectangle:\n",
        "    def __init__(self, length, width):\n",
        "        self.length = length\n",
        "        self.width = width\n",
        "\n",
        "    def area(self):\n",
        "        return self.length * self.width\n",
        "\n",
        "    def perimeter(self):\n",
        "        return 2 * (self.length + self.width)\n",
        "\n",
        "    def display(self):\n",
        "        print(f\"{self.width} x {self.length}\")\n"
      ],
      "metadata": {
        "id": "p_KLUxAlaxmU"
      },
      "execution_count": 55,
      "outputs": []
    },
    {
      "cell_type": "code",
      "source": [
        "object1=Rectangle(40,50)\n",
        "object1.area()"
      ],
      "metadata": {
        "id": "rfg41TDIlk0X",
        "colab": {
          "base_uri": "https://localhost:8080/"
        },
        "outputId": "caddd872-347d-4621-c7fd-2c3942de54b6"
      },
      "execution_count": 58,
      "outputs": [
        {
          "output_type": "execute_result",
          "data": {
            "text/plain": [
              "2000"
            ]
          },
          "metadata": {},
          "execution_count": 58
        }
      ]
    },
    {
      "cell_type": "code",
      "source": [
        "class Circle:\n",
        "    def __init__(self, ___r____):\n",
        "        self.radius =___r______\n",
        "\n",
        "    def area(self):\n",
        "        return 3.14 * _r_______ ** 2\n",
        "\n",
        "    def circumference(self):\n",
        "        return 2 * 3.14 * self.___r_____\n",
        "\n",
        "    def display(self):\n",
        "        print(\"Radius:\", self._r_______)\n"
      ],
      "metadata": {
        "id": "h8ZwkE8SlkxT"
      },
      "execution_count": null,
      "outputs": []
    },
    {
      "cell_type": "code",
      "source": [
        "object1=CircleProperties(40)\n",
        "object1.area()"
      ],
      "metadata": {
        "id": "Y8eRwpcllku6",
        "colab": {
          "base_uri": "https://localhost:8080/"
        },
        "outputId": "b934b5b5-3370-4dd1-ec39-1dd7ff0be54b"
      },
      "execution_count": 48,
      "outputs": [
        {
          "output_type": "execute_result",
          "data": {
            "text/plain": [
              "5026.548245743669"
            ]
          },
          "metadata": {},
          "execution_count": 48
        }
      ]
    },
    {
      "cell_type": "code",
      "source": [
        "object1=CircleProperties(20)\n",
        "object1.circ()"
      ],
      "metadata": {
        "colab": {
          "base_uri": "https://localhost:8080/"
        },
        "id": "33fNoxYz9K7M",
        "outputId": "dcd313e3-4362-4929-f509-11c7a6513ce9"
      },
      "execution_count": 51,
      "outputs": [
        {
          "output_type": "execute_result",
          "data": {
            "text/plain": [
              "125.66370614359172"
            ]
          },
          "metadata": {},
          "execution_count": 51
        }
      ]
    },
    {
      "cell_type": "code",
      "source": [
        "object1=CircleProperties(10)\n",
        "object1.r"
      ],
      "metadata": {
        "colab": {
          "base_uri": "https://localhost:8080/"
        },
        "id": "WlEiHi_b8HQA",
        "outputId": "b6c13c38-56a1-48e1-8105-82e72e038c43"
      },
      "execution_count": 49,
      "outputs": [
        {
          "output_type": "execute_result",
          "data": {
            "text/plain": [
              "10"
            ]
          },
          "metadata": {},
          "execution_count": 49
        }
      ]
    },
    {
      "cell_type": "code",
      "source": [
        "class Student:\n",
        "    def __init__(self, name, marks):\n",
        "        self.name = name\n",
        "        self.marks =marks\n",
        "\n",
        "    def get_average(self):\n",
        "        return sum(self.marks) / len(self.marks)\n",
        "\n",
        "    def display(self):\n",
        "        print(f\"Name: {self.name}, Marks: {self.marks}\")\n"
      ],
      "metadata": {
        "id": "OyJ9nPIKlkr_"
      },
      "execution_count": 65,
      "outputs": []
    },
    {
      "cell_type": "code",
      "source": [
        "object1=Student(\"vidya\",[20,30,40])\n",
        "object1.display()\n",
        "print(object1.get_average())\n"
      ],
      "metadata": {
        "colab": {
          "base_uri": "https://localhost:8080/"
        },
        "id": "YXXa35ZR9xEx",
        "outputId": "df2dd8fc-4829-4c4c-ddf3-3731dc248d94"
      },
      "execution_count": 68,
      "outputs": [
        {
          "output_type": "stream",
          "name": "stdout",
          "text": [
            "Name: vidya, Marks: [20, 30, 40]\n",
            "30.0\n"
          ]
        }
      ]
    },
    {
      "cell_type": "code",
      "source": [
        "object1=Student(\"vidya\",[20,30,40])\n",
        "object1.display()\n",
        "\n"
      ],
      "metadata": {
        "colab": {
          "base_uri": "https://localhost:8080/"
        },
        "id": "_ncRwuMbA06-",
        "outputId": "4a2b3f99-65c7-4508-de72-8b7e7c293146"
      },
      "execution_count": 69,
      "outputs": [
        {
          "output_type": "stream",
          "name": "stdout",
          "text": [
            "Name: vidya, Marks: [20, 30, 40]\n"
          ]
        }
      ]
    },
    {
      "cell_type": "code",
      "source": [
        "class Car:\n",
        "    def __init__(self, brand, speed):\n",
        "        self.brand = brand\n",
        "        self.speed = speed\n",
        "\n",
        "    def accelerate(self):\n",
        "        self.speed += 40\n",
        "\n",
        "    def display(self):\n",
        "        print(f\"{self.brand} speed: {self.speed} km/h\")\n"
      ],
      "metadata": {
        "id": "gc5xKwgFlkpd"
      },
      "execution_count": 70,
      "outputs": []
    },
    {
      "cell_type": "code",
      "source": [
        "car1=Car(\"Thar\",300)\n",
        "car1.accelerate()\n",
        "car1.display()\n",
        "\n"
      ],
      "metadata": {
        "id": "UUgnG9WUlknE",
        "colab": {
          "base_uri": "https://localhost:8080/"
        },
        "outputId": "31bf0ee0-2705-49b8-a28b-45cb9a1d5400"
      },
      "execution_count": 72,
      "outputs": [
        {
          "output_type": "stream",
          "name": "stdout",
          "text": [
            "Thar speed: 340 km/h\n"
          ]
        }
      ]
    },
    {
      "cell_type": "code",
      "source": [
        "class BankAccount:\n",
        "    def __init__(self, holder, balance):\n",
        "        self.holder = holder\n",
        "        self.balance = balance\n",
        "\n",
        "    def deposit(self, amount):\n",
        "        self.balance += amount\n",
        "\n",
        "    def display(self):\n",
        "        print(f\"{self.holder} Balance: {self.holder}\")\n"
      ],
      "metadata": {
        "id": "NTZC7sJ0lkkT"
      },
      "execution_count": 79,
      "outputs": []
    },
    {
      "cell_type": "code",
      "source": [
        "object1= Account(\"vidya\",400)\n",
        "object1.deposit()\n",
        "object1.display()\n",
        "\n",
        "\n"
      ],
      "metadata": {
        "colab": {
          "base_uri": "https://localhost:8080/",
          "height": 211
        },
        "id": "c-YUHMBhC26S",
        "outputId": "cf90a62e-c4da-45bb-8364-09f89f714aaa"
      },
      "execution_count": 78,
      "outputs": [
        {
          "output_type": "error",
          "ename": "NameError",
          "evalue": "name 'BankAccount' is not defined",
          "traceback": [
            "\u001b[0;31m---------------------------------------------------------------------------\u001b[0m",
            "\u001b[0;31mNameError\u001b[0m                                 Traceback (most recent call last)",
            "\u001b[0;32m/tmp/ipython-input-78-2846078755.py\u001b[0m in \u001b[0;36m<cell line: 0>\u001b[0;34m()\u001b[0m\n\u001b[0;32m----> 1\u001b[0;31m \u001b[0mobject1\u001b[0m\u001b[0;34m=\u001b[0m \u001b[0mBankAccount\u001b[0m\u001b[0;34m(\u001b[0m\u001b[0;34m\"vidya\"\u001b[0m\u001b[0;34m,\u001b[0m\u001b[0;36m400\u001b[0m\u001b[0;34m)\u001b[0m\u001b[0;34m\u001b[0m\u001b[0;34m\u001b[0m\u001b[0m\n\u001b[0m\u001b[1;32m      2\u001b[0m \u001b[0mobject1\u001b[0m\u001b[0;34m.\u001b[0m\u001b[0mdeposit\u001b[0m\u001b[0;34m(\u001b[0m\u001b[0;34m)\u001b[0m\u001b[0;34m\u001b[0m\u001b[0;34m\u001b[0m\u001b[0m\n\u001b[1;32m      3\u001b[0m \u001b[0mobject1\u001b[0m\u001b[0;34m.\u001b[0m\u001b[0mdisplay\u001b[0m\u001b[0;34m(\u001b[0m\u001b[0;34m)\u001b[0m\u001b[0;34m\u001b[0m\u001b[0;34m\u001b[0m\u001b[0m\n\u001b[1;32m      4\u001b[0m \u001b[0;34m\u001b[0m\u001b[0m\n\u001b[1;32m      5\u001b[0m \u001b[0;34m\u001b[0m\u001b[0m\n",
            "\u001b[0;31mNameError\u001b[0m: name 'BankAccount' is not defined"
          ]
        }
      ]
    },
    {
      "cell_type": "code",
      "source": [
        "object1= BankAccount(\"vidya\",400)\n",
        "object1.deposit()\n",
        "object1.display()"
      ],
      "metadata": {
        "id": "fv_OS0PUC2qL"
      },
      "execution_count": null,
      "outputs": []
    },
    {
      "cell_type": "code",
      "source": [
        "class Book:\n",
        "    def __init__(self, title, ________):\n",
        "        self.title = ________\n",
        "        self.author = author\n",
        "\n",
        "    def display(self):\n",
        "        print(f\"{self.title} by {self.________}\")\n",
        "\n",
        "    def get_author(self):\n",
        "        return self.________\n"
      ],
      "metadata": {
        "id": "1Gr09mKRlkhk"
      },
      "execution_count": null,
      "outputs": []
    },
    {
      "cell_type": "code",
      "source": [
        "class Temperature:\n",
        "    def __init__(self, celsius):\n",
        "        self.celsius = ________\n",
        "\n",
        "    def to_fahrenheit(self):\n",
        "        return (self.celsius * 9/5) + ________\n",
        "\n",
        "    def display(self):\n",
        "        print(f\"{self.________}°C\")\n"
      ],
      "metadata": {
        "id": "AccSSIeWlke0"
      },
      "execution_count": null,
      "outputs": []
    },
    {
      "cell_type": "markdown",
      "source": [
        "# 🧱 Properties of Object-Oriented Programming (OOP)\n",
        "\n",
        "Object-Oriented Programming is based on four main principles:\n",
        "\n",
        "---\n",
        "\n",
        "## 🔹 1. Encapsulation\n",
        "- Encapsulation is the process of **bundling data and methods** that operate on that data into a single unit (class).\n",
        "- It helps **hide internal details** and restricts direct access to some components.\n",
        "- Promotes **data security**, **integrity**, and **modularity**.\n",
        "- Example concepts: private variables, getter/setter methods.\n",
        "\n",
        "---\n",
        "\n",
        "## 🔹 2. Abstraction\n",
        "- Abstraction means **hiding complex implementation details** and showing only the **essential features** to the user.\n",
        "- Allows the user to interact with the system without knowing internal logic.\n",
        "- Promotes **simplification** and **focus on behavior** rather than internal structure.\n",
        "\n",
        "---\n",
        "\n",
        "## 🔹 3. Inheritance\n",
        "- Inheritance is a mechanism where one class (child/subclass) **inherits the properties and behaviors** of another class (parent/superclass).\n",
        "- Promotes **code reusability** and **extensibility**.\n",
        "- Allows the creation of a hierarchical classification.\n",
        "\n",
        "---\n",
        "\n",
        "## 🔹 4. Polymorphism\n",
        "- Polymorphism means \"**many forms**\" — the ability of a method or object to behave differently based on context.\n",
        "- Allows the **same interface** to be used for different data types or classes.\n",
        "- Promotes **flexibility** and **interchangeability** in code.\n",
        "\n",
        "---\n"
      ],
      "metadata": {
        "id": "d3yJ4LG2mF7V"
      }
    },
    {
      "cell_type": "code",
      "source": [
        "2+3\n",
        "\"data\"+\"science\""
      ],
      "metadata": {
        "id": "Vo2aOFzYl9OZ"
      },
      "execution_count": null,
      "outputs": []
    },
    {
      "cell_type": "code",
      "source": [],
      "metadata": {
        "id": "gKPDtglZm4sD"
      },
      "execution_count": null,
      "outputs": []
    },
    {
      "cell_type": "code",
      "source": [],
      "metadata": {
        "id": "Xb4I4sEVoFze"
      },
      "execution_count": null,
      "outputs": []
    },
    {
      "cell_type": "code",
      "source": [],
      "metadata": {
        "id": "JM6lB2oVoFwj"
      },
      "execution_count": null,
      "outputs": []
    },
    {
      "cell_type": "code",
      "source": [
        "# Example 1: Data Cleaning\n",
        "class DataCleaner:\n",
        "    def remove_nulls(self):\n",
        "        print(\"Null values removed\")\n",
        "\n",
        "class SalesCleaner(DataCleaner):\n",
        "    def convert_dates(self):\n",
        "        print(\"Date columns converted\")"
      ],
      "metadata": {
        "id": "Z32avssyoFud"
      },
      "execution_count": null,
      "outputs": []
    },
    {
      "cell_type": "code",
      "source": [
        "object1=SalesCleaner()\n",
        "object1."
      ],
      "metadata": {
        "id": "42qjRD2NoFr4"
      },
      "execution_count": null,
      "outputs": []
    },
    {
      "cell_type": "code",
      "source": [],
      "metadata": {
        "id": "ctZr2uIDoFow"
      },
      "execution_count": null,
      "outputs": []
    },
    {
      "cell_type": "code",
      "source": [
        "class Preprocessor:\n",
        "    def __init__(self):\n",
        "        print(\"Preprocessor initialized\")\n",
        "\n",
        "    def clean(self):\n",
        "        print(\"Cleaning base data\")\n",
        "\n",
        "class TextPreprocessor(Preprocessor):\n",
        "    def __init__(self):\n",
        "        #super().__init__()\n",
        "        print(\"TextPreprocessor initialized\")\n",
        "\n",
        "    def tokenize(self):\n",
        "        print(\"Text tokenized\")\n",
        "object1=TextPreprocessor()\n",
        "object1."
      ],
      "metadata": {
        "colab": {
          "base_uri": "https://localhost:8080/"
        },
        "id": "OiD_8yaGoFmc",
        "outputId": "b03fecbe-74ca-45e8-a03d-eebb5c91926d"
      },
      "execution_count": null,
      "outputs": [
        {
          "output_type": "stream",
          "name": "stdout",
          "text": [
            "TextPreprocessor initialized\n"
          ]
        }
      ]
    },
    {
      "cell_type": "code",
      "source": [],
      "metadata": {
        "id": "QNcHtDEpoFkS"
      },
      "execution_count": null,
      "outputs": []
    },
    {
      "cell_type": "code",
      "source": [],
      "metadata": {
        "id": "bbkeur1roFhI"
      },
      "execution_count": null,
      "outputs": []
    },
    {
      "cell_type": "code",
      "source": [
        "class Model:\n",
        "    def __init__(self):\n",
        "        print(\"Base Model initialized\")\n",
        "\n",
        "    def train(self):\n",
        "        print(\"Training model...\")\n",
        "\n",
        "class LinearRegressionModel(Model):\n",
        "    def __init__(self):\n",
        "        super().__init__()\n",
        "        print(\"LinearRegressionModel ready\")\n",
        "\n",
        "    def predict(self):\n",
        "        print(\"Predicting using linear regression\")\n",
        "\n",
        "# Usage\n",
        "model = LinearRegressionModel()\n",
        "model.train()\n",
        "model.predict()\n"
      ],
      "metadata": {
        "colab": {
          "base_uri": "https://localhost:8080/"
        },
        "id": "1g2V9wbFm4pP",
        "outputId": "4dd24192-0588-4b01-a1e7-abd9124d139e"
      },
      "execution_count": null,
      "outputs": [
        {
          "output_type": "stream",
          "name": "stdout",
          "text": [
            "Base Model initialized\n",
            "LinearRegressionModel ready\n",
            "Training model...\n",
            "Predicting using linear regression\n"
          ]
        }
      ]
    },
    {
      "cell_type": "code",
      "source": [],
      "metadata": {
        "id": "mzWptF5bm4my"
      },
      "execution_count": null,
      "outputs": []
    },
    {
      "cell_type": "code",
      "source": [
        "class Dataset:\n",
        "    def __init__(self):\n",
        "        print(\"Dataset initialized\")\n",
        "\n",
        "    def load(self):\n",
        "        print(\"Loading dataset...\")\n",
        "\n",
        "class CSVData(Dataset):\n",
        "    def __init__(self):\n",
        "        super().__init__()\n",
        "        print(\"CSVData initialized\")\n",
        "\n",
        "    def read_csv(self):\n",
        "        print(\"Reading CSV file\")\n",
        "\n",
        "class CleanedCSVData(CSVData):\n",
        "    def __init__(self):\n",
        "        super().__init__()\n",
        "        print(\"CleanedCSVData initialized\")\n",
        "\n",
        "    def clean(self):\n",
        "        print(\"Cleaning missing values\")\n",
        "\n",
        "object1=CleanedCSVData()\n",
        "object1."
      ],
      "metadata": {
        "colab": {
          "base_uri": "https://localhost:8080/"
        },
        "id": "0e_4qTavm4kQ",
        "outputId": "3d332e64-dad7-4fc9-d873-b593581f531c"
      },
      "execution_count": null,
      "outputs": [
        {
          "output_type": "stream",
          "name": "stdout",
          "text": [
            "Dataset initialized\n",
            "CSVData initialized\n",
            "CleanedCSVData initialized\n"
          ]
        }
      ]
    },
    {
      "cell_type": "code",
      "source": [],
      "metadata": {
        "id": "2ki3R1D0qjn0"
      },
      "execution_count": null,
      "outputs": []
    },
    {
      "cell_type": "code",
      "source": [],
      "metadata": {
        "id": "vxhyxLOmqjkj"
      },
      "execution_count": null,
      "outputs": []
    },
    {
      "cell_type": "code",
      "source": [],
      "metadata": {
        "id": "hZDW99lKqjg7"
      },
      "execution_count": null,
      "outputs": []
    },
    {
      "cell_type": "code",
      "source": [],
      "metadata": {
        "id": "FQXH1eArqjZw"
      },
      "execution_count": null,
      "outputs": []
    },
    {
      "cell_type": "code",
      "source": [],
      "metadata": {
        "id": "myjbs1lpqjXG"
      },
      "execution_count": null,
      "outputs": []
    },
    {
      "cell_type": "code",
      "source": [],
      "metadata": {
        "id": "aeyYwIcsqjUI"
      },
      "execution_count": null,
      "outputs": []
    },
    {
      "cell_type": "code",
      "source": [],
      "metadata": {
        "id": "xU5LvnbdqjQ1"
      },
      "execution_count": null,
      "outputs": []
    },
    {
      "cell_type": "code",
      "source": [],
      "metadata": {
        "id": "VvDh-Z8WqjLf"
      },
      "execution_count": null,
      "outputs": []
    },
    {
      "cell_type": "code",
      "source": [],
      "metadata": {
        "id": "-votvTGIqjIh"
      },
      "execution_count": null,
      "outputs": []
    },
    {
      "cell_type": "code",
      "source": [],
      "metadata": {
        "id": "6b_Qqn8kqjFa"
      },
      "execution_count": null,
      "outputs": []
    },
    {
      "cell_type": "code",
      "source": [],
      "metadata": {
        "id": "jh-O10RgqjC9"
      },
      "execution_count": null,
      "outputs": []
    },
    {
      "cell_type": "code",
      "source": [],
      "metadata": {
        "id": "tavgsyJSqi_4"
      },
      "execution_count": null,
      "outputs": []
    },
    {
      "cell_type": "code",
      "source": [],
      "metadata": {
        "id": "DI9LowA5qi9O"
      },
      "execution_count": null,
      "outputs": []
    },
    {
      "cell_type": "code",
      "source": [],
      "metadata": {
        "id": "gLFwm1Ezqi6L"
      },
      "execution_count": null,
      "outputs": []
    },
    {
      "cell_type": "code",
      "source": [],
      "metadata": {
        "id": "7F-sRmLlqi3s"
      },
      "execution_count": null,
      "outputs": []
    },
    {
      "cell_type": "code",
      "source": [],
      "metadata": {
        "id": "_FsQfZmfqi0L"
      },
      "execution_count": null,
      "outputs": []
    },
    {
      "cell_type": "code",
      "source": [],
      "metadata": {
        "id": "CgGR4rUFm4iD"
      },
      "execution_count": null,
      "outputs": []
    },
    {
      "cell_type": "code",
      "source": [],
      "metadata": {
        "id": "ZR_9uQO1m4e8"
      },
      "execution_count": null,
      "outputs": []
    },
    {
      "cell_type": "code",
      "source": [],
      "metadata": {
        "id": "IW0jMIuYl9Ld"
      },
      "execution_count": null,
      "outputs": []
    },
    {
      "cell_type": "code",
      "source": [],
      "metadata": {
        "id": "3Cwy4Njfl9JG"
      },
      "execution_count": null,
      "outputs": []
    },
    {
      "cell_type": "code",
      "source": [],
      "metadata": {
        "id": "UceGHCmsl9Gp"
      },
      "execution_count": null,
      "outputs": []
    },
    {
      "cell_type": "code",
      "source": [],
      "metadata": {
        "id": "7H3X4oqBl9D3"
      },
      "execution_count": null,
      "outputs": []
    },
    {
      "cell_type": "code",
      "source": [],
      "metadata": {
        "id": "f44CuP7Cl9BO"
      },
      "execution_count": null,
      "outputs": []
    },
    {
      "cell_type": "code",
      "source": [],
      "metadata": {
        "id": "A2rDbWw1l8-m"
      },
      "execution_count": null,
      "outputs": []
    },
    {
      "cell_type": "code",
      "source": [],
      "metadata": {
        "id": "EEBd5e7Nl870"
      },
      "execution_count": null,
      "outputs": []
    },
    {
      "cell_type": "code",
      "source": [],
      "metadata": {
        "id": "RsVPsUU8l844"
      },
      "execution_count": null,
      "outputs": []
    },
    {
      "cell_type": "code",
      "source": [],
      "metadata": {
        "id": "G4BVVJgMl82T"
      },
      "execution_count": null,
      "outputs": []
    },
    {
      "cell_type": "code",
      "source": [],
      "metadata": {
        "id": "anOXpdkbl8zT"
      },
      "execution_count": null,
      "outputs": []
    },
    {
      "cell_type": "code",
      "source": [],
      "metadata": {
        "id": "9NbFo8EJl8wO"
      },
      "execution_count": null,
      "outputs": []
    },
    {
      "cell_type": "code",
      "source": [],
      "metadata": {
        "id": "05nlWyzXl4Z-"
      },
      "execution_count": null,
      "outputs": []
    },
    {
      "cell_type": "code",
      "source": [],
      "metadata": {
        "id": "fJVpAJeal4XE"
      },
      "execution_count": null,
      "outputs": []
    },
    {
      "cell_type": "code",
      "source": [],
      "metadata": {
        "id": "twZ3qV7Il4Uc"
      },
      "execution_count": null,
      "outputs": []
    },
    {
      "cell_type": "code",
      "source": [],
      "metadata": {
        "id": "8hhrH6Rfl4Rr"
      },
      "execution_count": null,
      "outputs": []
    },
    {
      "cell_type": "code",
      "source": [],
      "metadata": {
        "id": "DwFF7Sjyl4O2"
      },
      "execution_count": null,
      "outputs": []
    },
    {
      "cell_type": "code",
      "source": [],
      "metadata": {
        "id": "67lYHoCgl4Ls"
      },
      "execution_count": null,
      "outputs": []
    },
    {
      "cell_type": "code",
      "source": [],
      "metadata": {
        "id": "lHaStLkwl4GM"
      },
      "execution_count": null,
      "outputs": []
    }
  ]
}