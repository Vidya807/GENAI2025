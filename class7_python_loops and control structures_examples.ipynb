{
  "cells": [
    {
      "cell_type": "code",
      "source": [
        "x=\"data science\"\n",
        "for i in x:\n",
        "  print(1)"
      ],
      "metadata": {
        "id": "TJ4itquksaHL",
        "outputId": "6923fe91-4625-42ba-b504-6704d7e1f6c3",
        "colab": {
          "base_uri": "https://localhost:8080/"
        }
      },
      "execution_count": null,
      "outputs": [
        {
          "output_type": "stream",
          "name": "stdout",
          "text": [
            "1\n",
            "1\n",
            "1\n",
            "1\n",
            "1\n",
            "1\n",
            "1\n",
            "1\n",
            "1\n",
            "1\n",
            "1\n",
            "1\n"
          ]
        }
      ]
    },
    {
      "cell_type": "code",
      "source": [
        "x=[1,2,3,4,[20,34,78]]\n",
        "for i in x:\n",
        "  print(i)"
      ],
      "metadata": {
        "id": "rWG4dDSYsaJ1",
        "outputId": "976e8fc4-3198-4c0d-eb52-c0ae6d3e466e",
        "colab": {
          "base_uri": "https://localhost:8080/"
        }
      },
      "execution_count": null,
      "outputs": [
        {
          "output_type": "stream",
          "name": "stdout",
          "text": [
            "1\n",
            "2\n",
            "3\n",
            "4\n",
            "[20, 34, 78]\n"
          ]
        }
      ]
    },
    {
      "cell_type": "code",
      "source": [
        "for i in [\"data\"]:\n",
        " print(1)"
      ],
      "metadata": {
        "id": "A6Uy210WsaMp",
        "outputId": "6b674ae8-3d10-4da0-fcde-5518490e1fd3",
        "colab": {
          "base_uri": "https://localhost:8080/"
        }
      },
      "execution_count": null,
      "outputs": [
        {
          "output_type": "stream",
          "name": "stdout",
          "text": [
            "1\n"
          ]
        }
      ]
    },
    {
      "cell_type": "code",
      "source": [
        "len([2,5,6,[7,8],[6,7]])"
      ],
      "metadata": {
        "id": "lkYJV5K_saPU",
        "outputId": "2249a398-9b0c-45c5-ba56-0906053f8eab",
        "colab": {
          "base_uri": "https://localhost:8080/"
        }
      },
      "execution_count": null,
      "outputs": [
        {
          "output_type": "execute_result",
          "data": {
            "text/plain": [
              "5"
            ]
          },
          "metadata": {},
          "execution_count": 16
        }
      ]
    },
    {
      "cell_type": "code",
      "source": [
        "len([1,2,3,4,[5,6],[6,7]])"
      ],
      "metadata": {
        "colab": {
          "base_uri": "https://localhost:8080/"
        },
        "id": "odmwyZsvvbJE",
        "outputId": "5b7ed420-6cfd-4447-8d4e-0434c1ce2155"
      },
      "execution_count": null,
      "outputs": [
        {
          "output_type": "execute_result",
          "data": {
            "text/plain": [
              "6"
            ]
          },
          "metadata": {},
          "execution_count": 14
        }
      ]
    },
    {
      "cell_type": "code",
      "source": [
        "for i in [1,2,3]:\n",
        "  print(3+i)"
      ],
      "metadata": {
        "id": "7ilipMuYsaVD",
        "outputId": "cc8442a8-2472-44cd-f0d1-3f8a4193d5fa",
        "colab": {
          "base_uri": "https://localhost:8080/"
        }
      },
      "execution_count": null,
      "outputs": [
        {
          "output_type": "stream",
          "name": "stdout",
          "text": [
            "4\n",
            "5\n",
            "6\n"
          ]
        }
      ]
    },
    {
      "cell_type": "code",
      "source": [
        "for i in [5,9,0,5]:\n",
        "  print(3)"
      ],
      "metadata": {
        "id": "wuRLkq17saX_",
        "outputId": "b6399520-0a57-47bd-9687-88df548164eb",
        "colab": {
          "base_uri": "https://localhost:8080/"
        }
      },
      "execution_count": null,
      "outputs": [
        {
          "output_type": "stream",
          "name": "stdout",
          "text": [
            "3\n",
            "3\n",
            "3\n",
            "3\n"
          ]
        }
      ]
    },
    {
      "cell_type": "code",
      "source": [
        "for i in range(1,20):\n",
        "  print(i,end=\",\")"
      ],
      "metadata": {
        "id": "_Wqssjkssaay",
        "outputId": "a226cab4-8a77-4b54-d1e4-1368c64b2425",
        "colab": {
          "base_uri": "https://localhost:8080/"
        }
      },
      "execution_count": null,
      "outputs": [
        {
          "output_type": "stream",
          "name": "stdout",
          "text": [
            "1,2,3,4,5,6,7,8,9,10,11,12,13,14,15,16,17,18,19,"
          ]
        }
      ]
    },
    {
      "cell_type": "code",
      "source": [
        "for i in range(0,10,2):\n",
        "  print(i,end=',')"
      ],
      "metadata": {
        "id": "bYmNw3Zxsads",
        "outputId": "dfe69af8-28b6-4d64-d5ef-2dc72543135b",
        "colab": {
          "base_uri": "https://localhost:8080/"
        }
      },
      "execution_count": null,
      "outputs": [
        {
          "output_type": "stream",
          "name": "stdout",
          "text": [
            "0,2,4,6,8,"
          ]
        }
      ]
    },
    {
      "cell_type": "code",
      "source": [
        "for i in range(0,10,3):\n",
        "  print(i,end=\",\")"
      ],
      "metadata": {
        "id": "GlB6QyNTsagf",
        "outputId": "e7021a5f-0479-4261-cc86-470541cc3ff6",
        "colab": {
          "base_uri": "https://localhost:8080/"
        }
      },
      "execution_count": null,
      "outputs": [
        {
          "output_type": "stream",
          "name": "stdout",
          "text": [
            "0,3,6,9,"
          ]
        }
      ]
    },
    {
      "cell_type": "code",
      "source": [
        "for i in range(0,10,1):\n",
        "  print(i,end=\",\")"
      ],
      "metadata": {
        "id": "i-rMqmigsajS",
        "outputId": "57729e1e-7eb8-434f-889f-073f2d72b2ce",
        "colab": {
          "base_uri": "https://localhost:8080/"
        }
      },
      "execution_count": null,
      "outputs": [
        {
          "output_type": "stream",
          "name": "stdout",
          "text": [
            "0,1,2,3,4,5,6,7,8,9,"
          ]
        }
      ]
    },
    {
      "cell_type": "code",
      "source": [
        "for i in range(10,0,-1):\n",
        "  print(i,end=\",\")"
      ],
      "metadata": {
        "id": "wQog75VjsamF",
        "outputId": "9359c7e5-bd02-48b2-f674-f7b516d77c72",
        "colab": {
          "base_uri": "https://localhost:8080/"
        }
      },
      "execution_count": null,
      "outputs": [
        {
          "output_type": "stream",
          "name": "stdout",
          "text": [
            "10,9,8,7,6,5,4,3,2,1,"
          ]
        }
      ]
    },
    {
      "cell_type": "code",
      "source": [
        "\"*\"*4"
      ],
      "metadata": {
        "id": "G9lohL3A58VS",
        "outputId": "82864356-4a6d-414a-a4ce-e41c2111809b",
        "colab": {
          "base_uri": "https://localhost:8080/",
          "height": 35
        }
      },
      "execution_count": null,
      "outputs": [
        {
          "output_type": "execute_result",
          "data": {
            "text/plain": [
              "'****'"
            ],
            "application/vnd.google.colaboratory.intrinsic+json": {
              "type": "string"
            }
          },
          "metadata": {},
          "execution_count": 48
        }
      ]
    },
    {
      "cell_type": "code",
      "source": [
        "for i in range(1,5):\n",
        "  print(\"$\"*i)"
      ],
      "metadata": {
        "id": "DSjT-P3a58X6",
        "outputId": "841dc8c9-e4a8-4bc7-ec34-a6a12588e20c",
        "colab": {
          "base_uri": "https://localhost:8080/"
        }
      },
      "execution_count": null,
      "outputs": [
        {
          "output_type": "stream",
          "name": "stdout",
          "text": [
            "$\n",
            "$$\n",
            "$$$\n",
            "$$$$\n"
          ]
        }
      ]
    },
    {
      "cell_type": "code",
      "source": [
        "for i in range(1,9):\n",
        "  print(\"#\"*i)"
      ],
      "metadata": {
        "id": "tH4l3naA58ak",
        "outputId": "f454958b-d87f-4de6-a2cf-c231b1436518",
        "colab": {
          "base_uri": "https://localhost:8080/"
        }
      },
      "execution_count": null,
      "outputs": [
        {
          "output_type": "stream",
          "name": "stdout",
          "text": [
            "#\n",
            "##\n",
            "###\n",
            "####\n",
            "#####\n",
            "######\n",
            "#######\n",
            "########\n"
          ]
        }
      ]
    },
    {
      "cell_type": "code",
      "source": [
        "for i in range(8,0,-1):\n",
        "  print(i*\"&\")"
      ],
      "metadata": {
        "id": "ICLeOqpn58dR",
        "outputId": "6bca5833-741d-4dfb-9dbb-cc624c3294ac",
        "colab": {
          "base_uri": "https://localhost:8080/"
        }
      },
      "execution_count": null,
      "outputs": [
        {
          "output_type": "stream",
          "name": "stdout",
          "text": [
            "&&&&&&&&\n",
            "&&&&&&&\n",
            "&&&&&&\n",
            "&&&&&\n",
            "&&&&\n",
            "&&&\n",
            "&&\n",
            "&\n"
          ]
        }
      ]
    },
    {
      "cell_type": "code",
      "source": [
        "for i in range(1,8):\n",
        "  print(7-i)"
      ],
      "metadata": {
        "id": "0irI7LHC58gn",
        "colab": {
          "base_uri": "https://localhost:8080/"
        },
        "outputId": "3d91f783-08ef-4b47-b715-f9d675a6243c"
      },
      "execution_count": null,
      "outputs": [
        {
          "output_type": "stream",
          "name": "stdout",
          "text": [
            "6\n",
            "5\n",
            "4\n",
            "3\n",
            "2\n",
            "1\n",
            "0\n"
          ]
        }
      ]
    },
    {
      "cell_type": "code",
      "source": [
        "for i in range(0,3):\n",
        "  print(\"data\".upper())\n",
        "  print(\"data\".lower())"
      ],
      "metadata": {
        "id": "-gVxEmLW58oF",
        "colab": {
          "base_uri": "https://localhost:8080/"
        },
        "outputId": "5c0209f2-a30b-428b-fde6-386fca568621"
      },
      "execution_count": null,
      "outputs": [
        {
          "output_type": "stream",
          "name": "stdout",
          "text": [
            "DATA\n",
            "data\n",
            "DATA\n",
            "data\n",
            "DATA\n",
            "data\n"
          ]
        }
      ]
    },
    {
      "cell_type": "code",
      "source": [
        "for i in range(0,10,2):\n",
        "  print(\"data science\".split()[-1][-1])"
      ],
      "metadata": {
        "id": "JaMYLM1b58rp",
        "colab": {
          "base_uri": "https://localhost:8080/"
        },
        "outputId": "1128fa51-3e15-4084-f1c9-49abd633dddc"
      },
      "execution_count": null,
      "outputs": [
        {
          "output_type": "stream",
          "name": "stdout",
          "text": [
            "e\n",
            "e\n",
            "e\n",
            "e\n",
            "e\n"
          ]
        }
      ]
    },
    {
      "cell_type": "code",
      "source": [
        "\"data science\".split()"
      ],
      "metadata": {
        "id": "kt0BYzRUsao-",
        "colab": {
          "base_uri": "https://localhost:8080/"
        },
        "outputId": "3e456631-8644-492f-c345-c88e6b5d9fa1"
      },
      "execution_count": null,
      "outputs": [
        {
          "output_type": "execute_result",
          "data": {
            "text/plain": [
              "['data', 'science']"
            ]
          },
          "metadata": {},
          "execution_count": 4
        }
      ]
    },
    {
      "cell_type": "code",
      "source": [
        "for i in range(0,5):\n",
        "  if True:\n",
        "    print(\"meghana leo\")"
      ],
      "metadata": {
        "id": "ShjWRnO7sash",
        "colab": {
          "base_uri": "https://localhost:8080/"
        },
        "outputId": "666ec4f2-a175-45d4-e23e-92031c519914"
      },
      "execution_count": null,
      "outputs": [
        {
          "output_type": "stream",
          "name": "stdout",
          "text": [
            "meghana leo\n",
            "meghana leo\n",
            "meghana leo\n",
            "meghana leo\n",
            "meghana leo\n"
          ]
        }
      ]
    },
    {
      "cell_type": "code",
      "source": [
        "for i in range(1,6):\n",
        "  print(i*\"*\")\n",
        "  if i==5:\n",
        "    for j in range(5,0,-1):\n",
        "      print(j*\"*\")"
      ],
      "metadata": {
        "id": "O8zj8W_Dsa4C",
        "colab": {
          "base_uri": "https://localhost:8080/"
        },
        "outputId": "24b0658c-bb9c-4d51-e55a-7e5dbdc6666a"
      },
      "execution_count": null,
      "outputs": [
        {
          "output_type": "stream",
          "name": "stdout",
          "text": [
            "*\n",
            "**\n",
            "***\n",
            "****\n",
            "*****\n",
            "*****\n",
            "****\n",
            "***\n",
            "**\n",
            "*\n"
          ]
        }
      ]
    },
    {
      "cell_type": "code",
      "source": [
        "x=[1,2,3,4,5]\n",
        "for i in range(1,6):\n",
        "  print(x[0:i])\n"
      ],
      "metadata": {
        "colab": {
          "base_uri": "https://localhost:8080/"
        },
        "id": "sWmuRnj4GCrA",
        "outputId": "b2aa3054-fc8e-4c85-d7cd-7660b64ae98d"
      },
      "execution_count": null,
      "outputs": [
        {
          "output_type": "stream",
          "name": "stdout",
          "text": [
            "[1]\n",
            "[1, 2]\n",
            "[1, 2, 3]\n",
            "[1, 2, 3, 4]\n",
            "[1, 2, 3, 4, 5]\n"
          ]
        }
      ]
    },
    {
      "cell_type": "code",
      "source": [
        "x=\"data\"\n",
        "for i in range(1,5):\n",
        "  print(x[0:i])"
      ],
      "metadata": {
        "colab": {
          "base_uri": "https://localhost:8080/"
        },
        "id": "jOljnabKGCuS",
        "outputId": "b995bac9-5a64-4b51-9d19-348ce808b7c5"
      },
      "execution_count": null,
      "outputs": [
        {
          "output_type": "stream",
          "name": "stdout",
          "text": [
            "d\n",
            "da\n",
            "dat\n",
            "data\n"
          ]
        }
      ]
    },
    {
      "cell_type": "code",
      "source": [
        "x= \"meghana bvfesyj mjhligfkjsh mjhgkyjtdhsga gfdvishalvngf\"\n",
        "for i in range (1,len(x)):\n",
        "  print(x[0:i])"
      ],
      "metadata": {
        "colab": {
          "base_uri": "https://localhost:8080/"
        },
        "id": "hkfVtDj_GCxP",
        "outputId": "f98056aa-133c-454d-9c2c-1903600c2f84"
      },
      "execution_count": null,
      "outputs": [
        {
          "output_type": "stream",
          "name": "stdout",
          "text": [
            "m\n",
            "me\n",
            "meg\n",
            "megh\n",
            "megha\n",
            "meghan\n",
            "meghana\n",
            "meghana \n",
            "meghana b\n",
            "meghana bv\n",
            "meghana bvf\n",
            "meghana bvfe\n",
            "meghana bvfes\n",
            "meghana bvfesy\n",
            "meghana bvfesyj\n",
            "meghana bvfesyj \n",
            "meghana bvfesyj m\n",
            "meghana bvfesyj mj\n",
            "meghana bvfesyj mjh\n",
            "meghana bvfesyj mjhl\n",
            "meghana bvfesyj mjhli\n",
            "meghana bvfesyj mjhlig\n",
            "meghana bvfesyj mjhligf\n",
            "meghana bvfesyj mjhligfk\n",
            "meghana bvfesyj mjhligfkj\n",
            "meghana bvfesyj mjhligfkjs\n",
            "meghana bvfesyj mjhligfkjsh\n",
            "meghana bvfesyj mjhligfkjsh \n",
            "meghana bvfesyj mjhligfkjsh m\n",
            "meghana bvfesyj mjhligfkjsh mj\n",
            "meghana bvfesyj mjhligfkjsh mjh\n",
            "meghana bvfesyj mjhligfkjsh mjhg\n",
            "meghana bvfesyj mjhligfkjsh mjhgk\n",
            "meghana bvfesyj mjhligfkjsh mjhgky\n",
            "meghana bvfesyj mjhligfkjsh mjhgkyj\n",
            "meghana bvfesyj mjhligfkjsh mjhgkyjt\n",
            "meghana bvfesyj mjhligfkjsh mjhgkyjtd\n",
            "meghana bvfesyj mjhligfkjsh mjhgkyjtdh\n",
            "meghana bvfesyj mjhligfkjsh mjhgkyjtdhs\n",
            "meghana bvfesyj mjhligfkjsh mjhgkyjtdhsg\n",
            "meghana bvfesyj mjhligfkjsh mjhgkyjtdhsga\n",
            "meghana bvfesyj mjhligfkjsh mjhgkyjtdhsga \n",
            "meghana bvfesyj mjhligfkjsh mjhgkyjtdhsga g\n",
            "meghana bvfesyj mjhligfkjsh mjhgkyjtdhsga gf\n",
            "meghana bvfesyj mjhligfkjsh mjhgkyjtdhsga gfd\n",
            "meghana bvfesyj mjhligfkjsh mjhgkyjtdhsga gfdv\n",
            "meghana bvfesyj mjhligfkjsh mjhgkyjtdhsga gfdvi\n",
            "meghana bvfesyj mjhligfkjsh mjhgkyjtdhsga gfdvis\n",
            "meghana bvfesyj mjhligfkjsh mjhgkyjtdhsga gfdvish\n",
            "meghana bvfesyj mjhligfkjsh mjhgkyjtdhsga gfdvisha\n",
            "meghana bvfesyj mjhligfkjsh mjhgkyjtdhsga gfdvishal\n",
            "meghana bvfesyj mjhligfkjsh mjhgkyjtdhsga gfdvishalv\n",
            "meghana bvfesyj mjhligfkjsh mjhgkyjtdhsga gfdvishalvn\n",
            "meghana bvfesyj mjhligfkjsh mjhgkyjtdhsga gfdvishalvng\n"
          ]
        }
      ]
    },
    {
      "cell_type": "code",
      "source": [
        "x=\"data science machine !%@%!@%!$5 learning\""
      ],
      "metadata": {
        "id": "NbQ3VQQnGC02"
      },
      "execution_count": null,
      "outputs": []
    },
    {
      "cell_type": "code",
      "source": [
        "x"
      ],
      "metadata": {
        "id": "XTERqMmBsa7C",
        "colab": {
          "base_uri": "https://localhost:8080/",
          "height": 35
        },
        "outputId": "543924b0-f752-497a-c947-edb0f6d8da33"
      },
      "execution_count": null,
      "outputs": [
        {
          "output_type": "execute_result",
          "data": {
            "text/plain": [
              "'data science machine !%@%!@%!$5 learning'"
            ],
            "application/vnd.google.colaboratory.intrinsic+json": {
              "type": "string"
            }
          },
          "metadata": {},
          "execution_count": 2
        }
      ]
    },
    {
      "cell_type": "code",
      "source": [
        "for i in x:\n",
        "  if not(i.isalpha()):\n",
        "    print(i,end=\",\")"
      ],
      "metadata": {
        "id": "DerH2MQAsa-c",
        "colab": {
          "base_uri": "https://localhost:8080/"
        },
        "outputId": "535f40bb-8aae-4d85-9957-a3185272b903"
      },
      "execution_count": null,
      "outputs": [
        {
          "output_type": "stream",
          "name": "stdout",
          "text": [
            " , , ,!,%,@,%,!,@,%,!,$,5, ,"
          ]
        }
      ]
    },
    {
      "cell_type": "code",
      "source": [
        "counter=0\n",
        "for i in x:\n",
        "  if i.isalpha()==False:\n",
        "    print(i,end=\",\")\n",
        "    counter=counter+1"
      ],
      "metadata": {
        "colab": {
          "base_uri": "https://localhost:8080/"
        },
        "id": "wLZygijJYg4Q",
        "outputId": "3581e223-73f6-496c-8f91-4cd895e9f0d9"
      },
      "execution_count": null,
      "outputs": [
        {
          "output_type": "stream",
          "name": "stdout",
          "text": [
            " , , ,!,%,@,%,!,@,%,!,$,5, ,"
          ]
        }
      ]
    },
    {
      "cell_type": "code",
      "source": [],
      "metadata": {
        "id": "jD-IdQqYYg7D"
      },
      "execution_count": null,
      "outputs": []
    },
    {
      "cell_type": "code",
      "source": [],
      "metadata": {
        "id": "HExdjGjyYg9x"
      },
      "execution_count": null,
      "outputs": []
    },
    {
      "cell_type": "code",
      "source": [],
      "metadata": {
        "id": "xz5MW7lfYhAX"
      },
      "execution_count": null,
      "outputs": []
    },
    {
      "cell_type": "code",
      "source": [],
      "metadata": {
        "id": "5fF2CIzmYhCo"
      },
      "execution_count": null,
      "outputs": []
    },
    {
      "cell_type": "code",
      "source": [],
      "metadata": {
        "id": "4CkQ1mYzYhGS"
      },
      "execution_count": null,
      "outputs": []
    },
    {
      "cell_type": "code",
      "source": [],
      "metadata": {
        "id": "zF5_MJKuYhTk"
      },
      "execution_count": null,
      "outputs": []
    },
    {
      "cell_type": "code",
      "source": [],
      "metadata": {
        "id": "877lsrTeYhuR"
      },
      "execution_count": null,
      "outputs": []
    },
    {
      "cell_type": "code",
      "source": [],
      "metadata": {
        "id": "3q05y5JQYhxm"
      },
      "execution_count": null,
      "outputs": []
    }
  ],
  "metadata": {
    "colab": {
      "provenance": []
    },
    "kernelspec": {
      "display_name": "Python 3",
      "name": "python3"
    }
  },
  "nbformat": 4,
  "nbformat_minor": 0
}