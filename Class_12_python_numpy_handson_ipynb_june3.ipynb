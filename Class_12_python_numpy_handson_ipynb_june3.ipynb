{
  "cells": [
    {
      "cell_type": "code",
      "source": [],
      "metadata": {
        "id": "EVfHGe6pCoOi"
      },
      "execution_count": null,
      "outputs": []
    },
    {
      "cell_type": "code",
      "source": [
        "import numpy as np"
      ],
      "metadata": {
        "id": "F_n_2Q30CoQ7"
      },
      "execution_count": null,
      "outputs": []
    },
    {
      "cell_type": "code",
      "source": [
        "# Retail dataset as numpy array\n",
        "retail_np_array=np.array([\n",
        "    [1001,\"Laptop\",1,50000,50000],\n",
        "    [1002,\"Mouse\",2,500,1000],\n",
        "    [1003,\"Keypord\",1,1000,1000],\n",
        "    [1004,\"Monitor\",2,7000,14000],\n",
        "    [1005,\"Headphones\",1,2000,2000]\n",
        "],dtype=object)\n",
        "retail_np_array"
      ],
      "metadata": {
        "id": "LmeSTgE-CoTs",
        "outputId": "fa955323-3a80-4d25-b328-cb531a382be7",
        "colab": {
          "base_uri": "https://localhost:8080/"
        }
      },
      "execution_count": null,
      "outputs": [
        {
          "output_type": "execute_result",
          "data": {
            "text/plain": [
              "array([[1001, 'Laptop', 1, 50000, 50000],\n",
              "       [1002, 'Mouse', 2, 500, 1000],\n",
              "       [1003, 'Keypord', 1, 1000, 1000],\n",
              "       [1004, 'Monitor', 2, 7000, 14000],\n",
              "       [1005, 'Headphones', 1, 2000, 2000]], dtype=object)"
            ]
          },
          "metadata": {},
          "execution_count": 4
        }
      ]
    },
    {
      "cell_type": "code",
      "source": [
        "#Extracting columns\n",
        "customer_ids = retail_np_array[:, 0]\n",
        "products = retail_np_array[:, 1]\n",
        "qunatities = retail_np_array[:, 2].astype(int)\n",
        "prices = retail_np_array[:, 3].astype(int)\n",
        "totals = retail_np_array[:, 4].astype(int)\n",
        "retail_np_array"
      ],
      "metadata": {
        "id": "uj7dAKXBIPKR",
        "outputId": "9fb9e522-e2a0-4686-a232-05933f1f48e2",
        "colab": {
          "base_uri": "https://localhost:8080/"
        }
      },
      "execution_count": null,
      "outputs": [
        {
          "output_type": "execute_result",
          "data": {
            "text/plain": [
              "array([[1001, 'Laptop', 1, 50000, 50000],\n",
              "       [1002, 'Mouse', 2, 500, 1000],\n",
              "       [1003, 'Keypord', 1, 1000, 1000],\n",
              "       [1004, 'Monitor', 2, 7000, 14000],\n",
              "       [1005, 'Headphones', 1, 2000, 2000]], dtype=object)"
            ]
          },
          "metadata": {},
          "execution_count": 10
        }
      ]
    },
    {
      "cell_type": "code",
      "source": [
        "retail_np_array.shape"
      ],
      "metadata": {
        "id": "Lu6ByyKCCoYw",
        "outputId": "1cd22be6-68ca-4f95-8e45-60646b8228e2",
        "colab": {
          "base_uri": "https://localhost:8080/"
        }
      },
      "execution_count": null,
      "outputs": [
        {
          "output_type": "execute_result",
          "data": {
            "text/plain": [
              "(5, 5)"
            ]
          },
          "metadata": {},
          "execution_count": 26
        }
      ]
    },
    {
      "cell_type": "code",
      "source": [
        "np.sum(totals),"
      ],
      "metadata": {
        "id": "Za0J9Zf7CobK",
        "outputId": "b5938e24-5104-4b69-a60a-5d6ee46b9e29",
        "colab": {
          "base_uri": "https://localhost:8080/"
        }
      },
      "execution_count": null,
      "outputs": [
        {
          "output_type": "execute_result",
          "data": {
            "text/plain": [
              "(np.int64(68000),)"
            ]
          },
          "metadata": {},
          "execution_count": 11
        }
      ]
    },
    {
      "cell_type": "code",
      "source": [
        "np.mean(totals),"
      ],
      "metadata": {
        "id": "QJtbImrSCod8",
        "outputId": "6e45e185-2d11-4b8a-a4a9-20a02ce62e63",
        "colab": {
          "base_uri": "https://localhost:8080/"
        }
      },
      "execution_count": null,
      "outputs": [
        {
          "output_type": "execute_result",
          "data": {
            "text/plain": [
              "(np.float64(13600.0),)"
            ]
          },
          "metadata": {},
          "execution_count": 12
        }
      ]
    },
    {
      "cell_type": "code",
      "source": [
        "products[np.argmax(totals)],"
      ],
      "metadata": {
        "id": "D1XwsLUnCogd",
        "outputId": "3c1bd5cb-b4cb-494d-9e36-782d8c46124a",
        "colab": {
          "base_uri": "https://localhost:8080/"
        }
      },
      "execution_count": null,
      "outputs": [
        {
          "output_type": "execute_result",
          "data": {
            "text/plain": [
              "('Laptop',)"
            ]
          },
          "metadata": {},
          "execution_count": 13
        }
      ]
    },
    {
      "cell_type": "code",
      "source": [
        "products[np.argmin(totals)],"
      ],
      "metadata": {
        "id": "y-fSTn4OConE",
        "outputId": "99b47c5e-10e5-4ac5-b0fa-ed4e3c1a90dd",
        "colab": {
          "base_uri": "https://localhost:8080/"
        }
      },
      "execution_count": null,
      "outputs": [
        {
          "output_type": "execute_result",
          "data": {
            "text/plain": [
              "('Mouse',)"
            ]
          },
          "metadata": {},
          "execution_count": 14
        }
      ]
    },
    {
      "cell_type": "code",
      "source": [
        "np.mean(prices),"
      ],
      "metadata": {
        "id": "XbZBMNC9Copj",
        "outputId": "9ace8160-9bc0-4d06-a47e-68395b6b4fa0",
        "colab": {
          "base_uri": "https://localhost:8080/"
        }
      },
      "execution_count": null,
      "outputs": [
        {
          "output_type": "execute_result",
          "data": {
            "text/plain": [
              "(np.float64(12100.0),)"
            ]
          },
          "metadata": {},
          "execution_count": 15
        }
      ]
    },
    {
      "cell_type": "code",
      "source": [
        "np.sum(qunatities)"
      ],
      "metadata": {
        "id": "trd8blICCotC",
        "outputId": "7027b228-e9fb-44f3-d024-6e3feb4f857a",
        "colab": {
          "base_uri": "https://localhost:8080/"
        }
      },
      "execution_count": null,
      "outputs": [
        {
          "output_type": "execute_result",
          "data": {
            "text/plain": [
              "np.int64(7)"
            ]
          },
          "metadata": {},
          "execution_count": 19
        }
      ]
    },
    {
      "cell_type": "code",
      "source": [
        "np.unique(products,return_counts=True)"
      ],
      "metadata": {
        "id": "tOCxRm58Kler",
        "outputId": "1b21c8ae-cd36-4589-b1ab-6a61810a462d",
        "colab": {
          "base_uri": "https://localhost:8080/"
        }
      },
      "execution_count": null,
      "outputs": [
        {
          "output_type": "execute_result",
          "data": {
            "text/plain": [
              "(array(['Headphones', 'Keypord', 'Laptop', 'Monitor', 'Mouse'],\n",
              "       dtype=object),\n",
              " array([1, 1, 1, 1, 1]))"
            ]
          },
          "metadata": {},
          "execution_count": 20
        }
      ]
    },
    {
      "cell_type": "code",
      "source": [
        "len(np.unique(products)),"
      ],
      "metadata": {
        "id": "y5tommogKlb0",
        "outputId": "ca669423-3070-4dfc-a0fb-88263fb74e8c",
        "colab": {
          "base_uri": "https://localhost:8080/"
        }
      },
      "execution_count": null,
      "outputs": [
        {
          "output_type": "execute_result",
          "data": {
            "text/plain": [
              "(5,)"
            ]
          },
          "metadata": {},
          "execution_count": 23
        }
      ]
    },
    {
      "cell_type": "code",
      "source": [
        "len(np.unique(customer_ids)),"
      ],
      "metadata": {
        "id": "KKX_6a4BKlZL",
        "outputId": "06bc9fea-fdba-4f15-cf78-0b5c6f7a37f0",
        "colab": {
          "base_uri": "https://localhost:8080/"
        }
      },
      "execution_count": null,
      "outputs": [
        {
          "output_type": "execute_result",
          "data": {
            "text/plain": [
              "(5,)"
            ]
          },
          "metadata": {},
          "execution_count": 24
        }
      ]
    },
    {
      "cell_type": "code",
      "source": [
        "products.tolist(),"
      ],
      "metadata": {
        "id": "Scm3JraJKlWi",
        "outputId": "8b4987c8-c77b-4f75-b607-3d3572a3a9c3",
        "colab": {
          "base_uri": "https://localhost:8080/"
        }
      },
      "execution_count": null,
      "outputs": [
        {
          "output_type": "execute_result",
          "data": {
            "text/plain": [
              "(['Laptop', 'Mouse', 'Keypord', 'Monitor', 'Headphones'],)"
            ]
          },
          "metadata": {},
          "execution_count": 27
        }
      ]
    },
    {
      "cell_type": "code",
      "source": [
        " {prod: np.sum(totals[products == prod]) for prod in np.unique(products)},\n"
      ],
      "metadata": {
        "id": "5nM_tLfRak7d",
        "outputId": "e91f2f62-36ec-4165-e79c-9589e5ea1e69",
        "colab": {
          "base_uri": "https://localhost:8080/"
        }
      },
      "execution_count": null,
      "outputs": [
        {
          "output_type": "execute_result",
          "data": {
            "text/plain": [
              "({'Headphones': np.int64(2000),\n",
              "  'Keypord': np.int64(1000),\n",
              "  'Laptop': np.int64(50000),\n",
              "  'Monitor': np.int64(14000),\n",
              "  'Mouse': np.int64(1000)},)"
            ]
          },
          "metadata": {},
          "execution_count": 28
        }
      ]
    },
    {
      "cell_type": "code",
      "source": [
        " {prod: np.sum(qunatities[products == prod]) for prod in np.unique(products)},\n"
      ],
      "metadata": {
        "id": "hhpywIavatRj",
        "outputId": "735a4a50-c1e8-4e7b-9bcc-4a4c5e78df26",
        "colab": {
          "base_uri": "https://localhost:8080/"
        }
      },
      "execution_count": null,
      "outputs": [
        {
          "output_type": "execute_result",
          "data": {
            "text/plain": [
              "({'Headphones': np.int64(1),\n",
              "  'Keypord': np.int64(1),\n",
              "  'Laptop': np.int64(1),\n",
              "  'Monitor': np.int64(2),\n",
              "  'Mouse': np.int64(2)},)"
            ]
          },
          "metadata": {},
          "execution_count": 30
        }
      ]
    },
    {
      "cell_type": "code",
      "source": [
        "np.max(prices),"
      ],
      "metadata": {
        "id": "CKFi6SuAatN8",
        "outputId": "553b0266-d1cb-491e-8b36-61a5020efdf0",
        "colab": {
          "base_uri": "https://localhost:8080/"
        }
      },
      "execution_count": null,
      "outputs": [
        {
          "output_type": "execute_result",
          "data": {
            "text/plain": [
              "(np.int64(50000),)"
            ]
          },
          "metadata": {},
          "execution_count": 31
        }
      ]
    },
    {
      "cell_type": "code",
      "source": [
        "np.min(prices),"
      ],
      "metadata": {
        "id": "XvUSQi3GatLw",
        "outputId": "39503c4a-8852-4347-cc64-9a5026603f9b",
        "colab": {
          "base_uri": "https://localhost:8080/"
        }
      },
      "execution_count": null,
      "outputs": [
        {
          "output_type": "execute_result",
          "data": {
            "text/plain": [
              "(np.int64(500),)"
            ]
          },
          "metadata": {},
          "execution_count": 32
        }
      ]
    },
    {
      "cell_type": "code",
      "source": [
        "products[qunatities > 1].tolist(),"
      ],
      "metadata": {
        "id": "-PcVoeeWatJe",
        "outputId": "b1a7d7de-ae24-432c-f157-689653842a60",
        "colab": {
          "base_uri": "https://localhost:8080/"
        }
      },
      "execution_count": null,
      "outputs": [
        {
          "output_type": "execute_result",
          "data": {
            "text/plain": [
              "(['Mouse', 'Monitor'],)"
            ]
          },
          "metadata": {},
          "execution_count": 34
        }
      ]
    },
    {
      "cell_type": "code",
      "source": [
        "customer_ids[qunatities > 1].tolist(),"
      ],
      "metadata": {
        "id": "Cw45-AGUatHJ",
        "outputId": "cbdd7987-48ee-4b3c-a880-591ad8b67f81",
        "colab": {
          "base_uri": "https://localhost:8080/"
        }
      },
      "execution_count": null,
      "outputs": [
        {
          "output_type": "execute_result",
          "data": {
            "text/plain": [
              "([1002, 1004],)"
            ]
          },
          "metadata": {},
          "execution_count": 35
        }
      ]
    },
    {
      "cell_type": "code",
      "source": [
        "np.sum(totals[customer_ids == 1002]),\n"
      ],
      "metadata": {
        "id": "WFgZgjhZatEe",
        "outputId": "e11a66b3-a0b6-4bcb-9561-8cda9fd58988",
        "colab": {
          "base_uri": "https://localhost:8080/"
        }
      },
      "execution_count": null,
      "outputs": [
        {
          "output_type": "execute_result",
          "data": {
            "text/plain": [
              "(np.int64(1000),)"
            ]
          },
          "metadata": {},
          "execution_count": 36
        }
      ]
    },
    {
      "cell_type": "code",
      "source": [
        "\n",
        " products[prices > 1000].tolist(),"
      ],
      "metadata": {
        "id": "CIcJMTFhatBR",
        "outputId": "ae9cc725-bc40-4e3b-d0dd-c17dc51321e3",
        "colab": {
          "base_uri": "https://localhost:8080/"
        }
      },
      "execution_count": null,
      "outputs": [
        {
          "output_type": "execute_result",
          "data": {
            "text/plain": [
              "(['Laptop', 'Monitor', 'Headphones'],)"
            ]
          },
          "metadata": {},
          "execution_count": 38
        }
      ]
    },
    {
      "cell_type": "code",
      "source": [
        "products[totals >= 2000].tolist()"
      ],
      "metadata": {
        "id": "F8U9woN9as8G",
        "outputId": "f8922eca-15f6-4270-c047-e0d640b58714",
        "colab": {
          "base_uri": "https://localhost:8080/"
        }
      },
      "execution_count": null,
      "outputs": [
        {
          "output_type": "execute_result",
          "data": {
            "text/plain": [
              "['Laptop', 'Monitor', 'Headphones']"
            ]
          },
          "metadata": {},
          "execution_count": 39
        }
      ]
    },
    {
      "cell_type": "code",
      "source": [],
      "metadata": {
        "id": "vypFPDvfak4A"
      },
      "execution_count": null,
      "outputs": []
    },
    {
      "cell_type": "code",
      "source": [],
      "metadata": {
        "id": "rjzPiH1oak0R"
      },
      "execution_count": null,
      "outputs": []
    },
    {
      "cell_type": "code",
      "source": [],
      "metadata": {
        "id": "Ew2DyE6cakwz"
      },
      "execution_count": null,
      "outputs": []
    },
    {
      "cell_type": "code",
      "source": [],
      "metadata": {
        "id": "jMocGYqyakuF"
      },
      "execution_count": null,
      "outputs": []
    },
    {
      "cell_type": "code",
      "source": [],
      "metadata": {
        "id": "QIkfsTtHakrD"
      },
      "execution_count": null,
      "outputs": []
    },
    {
      "cell_type": "code",
      "source": [],
      "metadata": {
        "id": "e86f48knakoK"
      },
      "execution_count": null,
      "outputs": []
    },
    {
      "cell_type": "code",
      "source": [],
      "metadata": {
        "id": "7d0oUUKVaklg"
      },
      "execution_count": null,
      "outputs": []
    },
    {
      "cell_type": "code",
      "source": [],
      "metadata": {
        "id": "OcforQyKakfX"
      },
      "execution_count": null,
      "outputs": []
    },
    {
      "cell_type": "code",
      "source": [],
      "metadata": {
        "id": "AkkzmrZwakcA"
      },
      "execution_count": null,
      "outputs": []
    },
    {
      "cell_type": "code",
      "source": [],
      "metadata": {
        "id": "BkI8Y6NvakZS"
      },
      "execution_count": null,
      "outputs": []
    },
    {
      "cell_type": "code",
      "source": [],
      "metadata": {
        "id": "upZp7T6yakWb"
      },
      "execution_count": null,
      "outputs": []
    },
    {
      "cell_type": "code",
      "source": [],
      "metadata": {
        "id": "MqNZO-V-akT5"
      },
      "execution_count": null,
      "outputs": []
    },
    {
      "cell_type": "code",
      "source": [],
      "metadata": {
        "id": "TxNw_oIAKlT5"
      },
      "execution_count": null,
      "outputs": []
    }
  ],
  "metadata": {
    "colab": {
      "provenance": []
    },
    "kernelspec": {
      "display_name": "Python 3",
      "name": "python3"
    }
  },
  "nbformat": 4,
  "nbformat_minor": 0
}