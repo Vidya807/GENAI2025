{
  "cells": [
    {
      "cell_type": "markdown",
      "source": [
        "single inheritance"
      ],
      "metadata": {
        "id": "MI0Ca0Z4t9ei"
      }
    },
    {
      "cell_type": "code",
      "source": [
        "# Base Class\n",
        "class Animal:\n",
        "    def __init__(self, name):\n",
        "        self.name = name\n",
        "        print(f\"[Animal] Initialized: {self.name}\")\n",
        "\n",
        "    def make_sound (self):\n",
        "        print(f\"[Animal] {self.name} is making a sound.\")\n",
        "\n",
        "# Derived Class\n",
        "class Dog(Animal):\n",
        "    def __init__(self, name, breed):\n",
        "        super().__init__(name)  # Removed 'self' here\n",
        "        self.breed = breed\n",
        "        print(f\"[Dog] Initialized: {self.breed}\")\n",
        "\n",
        "    def Bark(self):\n",
        "        print(f\"[Dog] {self.name} the {self.breed} is barking!\")\n",
        "\n",
        "# Object creation and method calls\n",
        "my_dog = Dog(\"Buddy\", \"Labrador\")\n",
        "\n",
        "my_dog.make_sound()\n",
        "my_dog.Bark()"
      ],
      "metadata": {
        "colab": {
          "base_uri": "https://localhost:8080/"
        },
        "id": "sZIFBCI5t0F2",
        "outputId": "00250fb8-faf0-4e4d-bded-d819d13905df"
      },
      "execution_count": 1,
      "outputs": [
        {
          "output_type": "stream",
          "name": "stdout",
          "text": [
            "[Animal] Initialized: Buddy\n",
            "[Dog] Initialized: Labrador\n",
            "[Animal] Buddy is making a sound.\n",
            "[Dog] Buddy the Labrador is barking!\n"
          ]
        }
      ]
    },
    {
      "cell_type": "code",
      "source": [
        "# Base Class\n",
        "class Fruit:\n",
        "    def __init__(self, color):\n",
        "        self.color = color\n",
        "        print(f\"[Fruit] Color: {self.color}\")\n",
        "\n",
        "    def describe(self):\n",
        "        print(f\"[Fruit] This fruit is {self.color}.\")\n",
        "\n",
        "# Derived Class\n",
        "class Apple(Fruit):\n",
        "    def __init__(self, color, taste):\n",
        "        super().__init__(color)\n",
        "        self.taste = taste\n",
        "        print(f\"[Apple] Taste: {self.taste}\")\n",
        "\n",
        "    def describe(self):\n",
        "        print(f\"[Apple] This apple tastes {self.taste}.\")\n",
        "\n",
        "# Object creation and method calls\n",
        "my_apple = Apple(\"Red\", \"Sweet\")\n",
        "my_apple.describe()\n",
        "my_apple.describe()"
      ],
      "metadata": {
        "colab": {
          "base_uri": "https://localhost:8080/"
        },
        "id": "MWT-2ewAtf2_",
        "outputId": "57aa9396-f403-4434-9332-69734c52cb35"
      },
      "execution_count": 2,
      "outputs": [
        {
          "output_type": "stream",
          "name": "stdout",
          "text": [
            "[Fruit] Color: Red\n",
            "[Apple] Taste: Sweet\n",
            "[Apple] This apple tastes Sweet.\n",
            "[Apple] This apple tastes Sweet.\n"
          ]
        }
      ]
    },
    {
      "cell_type": "code",
      "source": [
        "# Base Class\n",
        "class Book:\n",
        "    def __init__(self, title):\n",
        "        self.title = title\n",
        "        print(f\"[Book] Title: {self.title}\")\n",
        "\n",
        "    def read(self):\n",
        "        print(f\"[Book] Reading {self.title}\")\n",
        "\n",
        "# Derived Class\n",
        "class Novel(Book):\n",
        "    def __init__(self, title, author):\n",
        "        super().__init__(title)\n",
        "        self.author = author\n",
        "        print(f\"[Novel] Author: {self.author}\")\n",
        "\n",
        "    def read(self):\n",
        "        print(f\"[Novel] {self.title} by {self.author}\")\n",
        "\n",
        "# Object creation and method calls\n",
        "my_novel = Novel(\"1984\", \"George Orwell\")\n",
        "my_novel.read()\n",
        "my_novel.read()"
      ],
      "metadata": {
        "colab": {
          "base_uri": "https://localhost:8080/"
        },
        "id": "imuZUQoItfz4",
        "outputId": "288367a3-b8ea-42bd-9251-c3867eb6445c"
      },
      "execution_count": 3,
      "outputs": [
        {
          "output_type": "stream",
          "name": "stdout",
          "text": [
            "[Book] Title: 1984\n",
            "[Novel] Author: George Orwell\n",
            "[Novel] 1984 by George Orwell\n",
            "[Novel] 1984 by George Orwell\n"
          ]
        }
      ]
    },
    {
      "cell_type": "markdown",
      "source": [
        "multilevelinheritance"
      ],
      "metadata": {
        "id": "WtaUCvo06UV_"
      }
    },
    {
      "cell_type": "code",
      "source": [
        "# Base Class (Level 1)\n",
        "class Car:\n",
        "    def __init__(self, brand):\n",
        "        self.brand = brand\n",
        "        print(f\"[Car] Initialized for brand: {self.brand}\")\n",
        "\n",
        "    def start_engine(self):\n",
        "        print(f\"[Car] Starting engine of {self.brand}\")\n",
        "\n",
        "# Derived Class (Level 2)\n",
        "class Vehicle(Car):\n",
        "    def __init__(self, brand, model):\n",
        "        super().__init__(brand)\n",
        "        self.model = model\n",
        "        print(f\"[Vehicle] Initialized for model: {self.model}\")\n",
        "\n",
        "    def drive(self):\n",
        "        print(f\"[Vehicle] Driving {self.brand} {self.model}\")\n",
        "\n",
        "# Derived Class (Level 3)\n",
        "class ElectricCar(Vehicle):\n",
        "    def __init__(self, brand, model, battery_range):\n",
        "        super().__init__(brand, model)\n",
        "        self.battery_range = battery_range\n",
        "        print(f\"[ElectricCar] Initialized with range: {self.battery_range} km\")\n",
        "\n",
        "    def charge(self):\n",
        "        print(f\"[ElectricCar] Charging {self.brand} {self.model}... Range: {self.battery_range} km\")\n",
        "\n",
        "    def start_engine(self):  # Override base method\n",
        "        print(f\"[ElectricCar] No engine to start. {self.brand} {self.model} is electric!\")\n",
        "\n",
        "# Object creation and method calls\n",
        "my_electric_car = ElectricCar(\"Tesla\",\"Model 3\", 500)\n",
        "my_electric_car.start_engine()\n",
        "my_electric_car.drive()\n",
        "my_electric_car.charge()"
      ],
      "metadata": {
        "colab": {
          "base_uri": "https://localhost:8080/"
        },
        "id": "aTGSB8aetfw4",
        "outputId": "fbb62fdc-f06c-4b82-8c8a-7ba759cad4c8"
      },
      "execution_count": 4,
      "outputs": [
        {
          "output_type": "stream",
          "name": "stdout",
          "text": [
            "[Car] Initialized for brand: Tesla\n",
            "[Vehicle] Initialized for model: Model 3\n",
            "[ElectricCar] Initialized with range: 500 km\n",
            "[ElectricCar] No engine to start. Tesla Model 3 is electric!\n",
            "[Vehicle] Driving Tesla Model 3\n",
            "[ElectricCar] Charging Tesla Model 3... Range: 500 km\n"
          ]
        }
      ]
    },
    {
      "cell_type": "code",
      "source": [
        "# Base Class\n",
        "class Device:\n",
        "    def __init__(self, name):\n",
        "        self.name = name\n",
        "        print(f\"[Device] Name: {self.name}\")\n",
        "\n",
        "    def power_on(self):\n",
        "        print(f\"[Device] Powering on {self.name}\")\n",
        "\n",
        "# Derived Class 1\n",
        "class Computer(Device):\n",
        "    def __init__(self, name, os):\n",
        "        super().__init__(name)\n",
        "        self.os = os\n",
        "        print(f\"[Computer] OS: {self.os}\")\n",
        "\n",
        "    def boot(self):\n",
        "        print(f\"[Computer] Booting {self.name} with {self.os}\")\n",
        "\n",
        "# Derived Class 2\n",
        "class Laptop(Computer):\n",
        "    def __init__(self, name, os, version):\n",
        "        super().__init__(name, os)\n",
        "        self.version = version\n",
        "        print(f\"[Laptop] Version: {self.version}\")\n",
        "\n",
        "    def run(self):\n",
        "        print(f\"[Laptop] {self.name} running {self.os} v{self.version}\")\n",
        "\n",
        "# Object creation and method calls\n",
        "my_laptop = Laptop(\"ThinkPad\", \"Windows\", \"10\")\n",
        "my_laptop.power_on()\n",
        "my_laptop.boot()\n",
        "my_laptop.run()"
      ],
      "metadata": {
        "colab": {
          "base_uri": "https://localhost:8080/"
        },
        "id": "1JsR0woZtfuP",
        "outputId": "543bf667-2590-4db2-f84c-576b20d66284"
      },
      "execution_count": 5,
      "outputs": [
        {
          "output_type": "stream",
          "name": "stdout",
          "text": [
            "[Device] Name: ThinkPad\n",
            "[Computer] OS: Windows\n",
            "[Laptop] Version: 10\n",
            "[Device] Powering on ThinkPad\n",
            "[Computer] Booting ThinkPad with Windows\n",
            "[Laptop] ThinkPad running Windows v10\n"
          ]
        }
      ]
    },
    {
      "cell_type": "markdown",
      "source": [
        "MultipleInheritance\n"
      ],
      "metadata": {
        "id": "nhxdbrjX6moD"
      }
    },
    {
      "cell_type": "code",
      "source": [
        "# Base Class 1\n",
        "class Bird:\n",
        "    def __init__(self):\n",
        "        print(\"[Flyer] Can fly!\")\n",
        "    def Fly(self):\n",
        "        print(\"[Flyer] Flying...\")\n",
        "\n",
        "# Base Class 2\n",
        "class Swimmer :\n",
        "    def __init__(self):\n",
        "        print(\"[Swimmer] Can swim!\")\n",
        "    def swim(self):\n",
        "        print(\"[Swimmer] Swimming...\")\n",
        "\n",
        "# Derived Class\n",
        "class Duck(Bird, Swimmer):\n",
        "    def __init__(self):\n",
        "        Bird.__init__(self)\n",
        "        Swimmer.__init__(self)\n",
        "        print(\"[Duck] Initialized!\")\n",
        "\n",
        "    def quack(self):\n",
        "        print(\"[Duck] Quacking!\")\n",
        "\n",
        "# Object creation and method calls\n",
        "donald = Duck()\n",
        "donald.Fly()\n",
        "donald.quack()\n",
        "donald.swim()"
      ],
      "metadata": {
        "colab": {
          "base_uri": "https://localhost:8080/"
        },
        "id": "Rz6H4luytfrP",
        "outputId": "0cbce15d-e689-4ec8-8cd2-9ad86466de50"
      },
      "execution_count": 6,
      "outputs": [
        {
          "output_type": "stream",
          "name": "stdout",
          "text": [
            "[Flyer] Can fly!\n",
            "[Swimmer] Can swim!\n",
            "[Duck] Initialized!\n",
            "[Flyer] Flying...\n",
            "[Duck] Quacking!\n",
            "[Swimmer] Swimming...\n"
          ]
        }
      ]
    },
    {
      "cell_type": "code",
      "source": [
        "# Base Class 1\n",
        "class Walker :\n",
        "    def walk(self):\n",
        "        print(\"[Walker] Walking...\")\n",
        "\n",
        "# Base Class 2\n",
        "class Runner:\n",
        "    def run(self):\n",
        "        print(\"[Runner] Running...\")\n",
        "\n",
        "# Derived Class\n",
        "class Athlete(Walker, Runner):\n",
        "    def compete(self):\n",
        "        print(\"[Athlete] Competing!\")\n",
        "\n",
        "# Object creation and method calls\n",
        "athlete = Athlete()\n",
        "athlete.walk()\n",
        "athlete.run()\n",
        "athlete.compete()"
      ],
      "metadata": {
        "colab": {
          "base_uri": "https://localhost:8080/"
        },
        "id": "wtpm5S7atfmE",
        "outputId": "ff9449ed-35a5-4d96-80d6-335958d54d91"
      },
      "execution_count": 7,
      "outputs": [
        {
          "output_type": "stream",
          "name": "stdout",
          "text": [
            "[Walker] Walking...\n",
            "[Runner] Running...\n",
            "[Athlete] Competing!\n"
          ]
        }
      ]
    },
    {
      "cell_type": "code",
      "source": [
        "# Base Class 1\n",
        "class Painter:\n",
        "    def paint(self):\n",
        "        print(\"[Painter] Painting...\")\n",
        "\n",
        "# Base Class 2\n",
        "class Singer:\n",
        "    def sing(self):\n",
        "        print(\"[Singer] Singing...\")\n",
        "\n",
        "# Derived Class\n",
        "class Artist(Painter, Singer):\n",
        "    def perform(self):\n",
        "        print(\"[Artist] Performing!\")\n",
        "\n",
        "# Object creation and method calls\n",
        "artist = Artist()\n",
        "artist.paint()\n",
        "artist.sing()\n",
        "artist.perform()"
      ],
      "metadata": {
        "colab": {
          "base_uri": "https://localhost:8080/"
        },
        "id": "kMWtuOpTtfjT",
        "outputId": "73454512-ae36-46c2-e494-c2eecdb89d77"
      },
      "execution_count": 8,
      "outputs": [
        {
          "output_type": "stream",
          "name": "stdout",
          "text": [
            "[Painter] Painting...\n",
            "[Singer] Singing...\n",
            "[Artist] Performing!\n"
          ]
        }
      ]
    },
    {
      "cell_type": "markdown",
      "source": [
        "Hybridinheritance"
      ],
      "metadata": {
        "id": "ZsK-OMAi66qq"
      }
    },
    {
      "cell_type": "code",
      "source": [
        "# Base Class\n",
        "class Person:\n",
        "    def __init__(self, name):\n",
        "        self.name = name\n",
        "        print(f\"[Person] Initialized: {self.name}\")\n",
        "\n",
        "# Parent Class 1 (inherits from Person)\n",
        "class Employee(Person):\n",
        "    def work(self):\n",
        "        print(\"[Employee] Working...\")\n",
        "\n",
        "# Parent Class 2 (inherits from Person)\n",
        "class Student(Person):\n",
        "    def study(self):\n",
        "        print(\"[Student] Studying...\")\n",
        "\n",
        "# Derived Class (Hybrid - inherits from Employee and Student)\n",
        "class Intern(Employee, Student):\n",
        "    def __init__(self, name):\n",
        "        # Using super() with no arguments works correctly with multiple inheritance\n",
        "        # as it follows the Method Resolution Order (MRO)\n",
        "        super().__init__(name)\n",
        "        print(\"[Intern] Initialized!\")\n",
        "\n",
        "    def intern(self):\n",
        "        print(f\"[Intern] {self.name} is interning!\")\n",
        "\n",
        "# Object creation and method calls\n",
        "intern = Intern(\"Alice\")\n",
        "intern.work()\n",
        "intern.study()\n",
        "intern.intern()"
      ],
      "metadata": {
        "colab": {
          "base_uri": "https://localhost:8080/"
        },
        "id": "tdVSfbsrtfeA",
        "outputId": "355a07c0-75e7-40b4-ab17-7292000ea8e6"
      },
      "execution_count": 9,
      "outputs": [
        {
          "output_type": "stream",
          "name": "stdout",
          "text": [
            "[Person] Initialized: Alice\n",
            "[Intern] Initialized!\n",
            "[Employee] Working...\n",
            "[Student] Studying...\n",
            "[Intern] Alice is interning!\n"
          ]
        }
      ]
    },
    {
      "cell_type": "code",
      "source": [
        "# Base Class\n",
        "class Account:\n",
        "    def __init__(self, id):\n",
        "        self.id = id\n",
        "        print(f\"[Account] ID: {self.id}\")\n",
        "\n",
        "# Parent Class 1\n",
        "class Buyer:\n",
        "    def buy(self):\n",
        "        print(\"[Buyer] Buying...\")\n",
        "\n",
        "# Parent Class 2\n",
        "class Seller:\n",
        "    def sell(self):\n",
        "        print(\"[Seller] Selling...\")\n",
        "\n",
        "# Derived Class (Hybrid)\n",
        "class MarketplaceUser(Account, Buyer, Seller):\n",
        "    def __init__(self, id):\n",
        "        Account.__init__(self, id)\n",
        "        print(\"[MarketplaceUser] Initialized!\")\n",
        "\n",
        "    def is_active(self):\n",
        "        print(f\"[MarketplaceUser] User {self.id} is active!\")\n",
        "\n",
        "# Object creation and method calls\n",
        "user = MarketplaceUser(101)\n",
        "user.buy()\n",
        "user.sell()\n",
        "user.is_active()"
      ],
      "metadata": {
        "colab": {
          "base_uri": "https://localhost:8080/"
        },
        "id": "tQ_rojzdtfYl",
        "outputId": "70abbe51-096d-46f2-976f-49eb839b5c38"
      },
      "execution_count": 10,
      "outputs": [
        {
          "output_type": "stream",
          "name": "stdout",
          "text": [
            "[Account] ID: 101\n",
            "[MarketplaceUser] Initialized!\n",
            "[Buyer] Buying...\n",
            "[Seller] Selling...\n",
            "[MarketplaceUser] User 101 is active!\n"
          ]
        }
      ]
    },
    {
      "cell_type": "code",
      "source": [
        "# Base Class\n",
        "class Device:\n",
        "    def __init__(self, name):\n",
        "        self.name = name\n",
        "        print(f\"[Device] Name: {self.name}\")\n",
        "\n",
        "# Parent Class 1\n",
        "class Camera:\n",
        "    def take_photo(self):\n",
        "        print(\"[Camera] Taking photo...\")\n",
        "\n",
        "# Parent Class 2\n",
        "class Phone:\n",
        "    def make_call(self):\n",
        "        print(\"[Phone] Making call...\")\n",
        "\n",
        "# Derived Class (Hybrid)\n",
        "class Smartphone(Device, Camera, Phone):\n",
        "    def __init__(self, name):\n",
        "        Device.__init__(self, name)\n",
        "        print(\"[Smartphone] Ready!\")\n",
        "\n",
        "    def is_smart(self):\n",
        "        print(f\"[Smartphone] {self.name} is smart!\")\n",
        "\n",
        "# Object creation and method calls\n",
        "sp = Smartphone(\"Pixel\")\n",
        "sp.take_photo()\n",
        "sp.make_call()\n",
        "sp.is_smart()"
      ],
      "metadata": {
        "colab": {
          "base_uri": "https://localhost:8080/"
        },
        "id": "ZQ2IY1qgtfWL",
        "outputId": "b30042ae-1a12-4cd1-b845-43d5e396040f"
      },
      "execution_count": 11,
      "outputs": [
        {
          "output_type": "stream",
          "name": "stdout",
          "text": [
            "[Device] Name: Pixel\n",
            "[Smartphone] Ready!\n",
            "[Camera] Taking photo...\n",
            "[Phone] Making call...\n",
            "[Smartphone] Pixel is smart!\n"
          ]
        }
      ]
    },
    {
      "cell_type": "code",
      "source": [],
      "metadata": {
        "id": "hqXhQyEAtfTi"
      },
      "execution_count": null,
      "outputs": []
    },
    {
      "cell_type": "markdown",
      "source": [
        "Hierarchicalinheritance"
      ],
      "metadata": {
        "id": "KCI-I98U7vWb"
      }
    },
    {
      "cell_type": "code",
      "source": [
        "# Base Class\n",
        "class Shape:\n",
        "    def __init__(self, name):\n",
        "        self.name = name\n",
        "        print(f\"[Shape] Initialized: {self.name}\")\n",
        "\n",
        "    def draw(self):\n",
        "        print(f\"[Shape] Drawing {self.name}\")\n",
        "\n",
        "# Derived Class 1\n",
        "class Circle(Shape):\n",
        "    def __init__(self, name, radius):\n",
        "        super().__init__(name)\n",
        "        self.radius = radius\n",
        "        print(f\"[Circle] Radius: {self.radius}\")\n",
        "\n",
        "    def area(self):\n",
        "        print(f\"[Circle] Area: {3.14 * self.radius * self.radius}\")\n",
        "\n",
        "# Derived Class 2\n",
        "class Square(Shape):\n",
        "    def __init__(self, name, side):\n",
        "        super().__init__(name)\n",
        "        self.side = side\n",
        "        print(f\"[Square] Side: {self.side}\")\n",
        "\n",
        "    def area(self):\n",
        "        print(f\"[Square] Area: {self.side * self.side}\")\n",
        "\n",
        "# Object creation and method calls\n",
        "c = Circle(\"Circle\", 5)\n",
        "s = Square(\"Square\", 4)\n",
        "c.draw()\n",
        "c.area()\n",
        "s.draw()\n",
        "s.area()"
      ],
      "metadata": {
        "colab": {
          "base_uri": "https://localhost:8080/"
        },
        "id": "v4ywiJwWtfRH",
        "outputId": "7f6ba3c3-7f18-4823-a663-af455b2a0361"
      },
      "execution_count": 12,
      "outputs": [
        {
          "output_type": "stream",
          "name": "stdout",
          "text": [
            "[Shape] Initialized: Circle\n",
            "[Circle] Radius: 5\n",
            "[Shape] Initialized: Square\n",
            "[Square] Side: 4\n",
            "[Shape] Drawing Circle\n",
            "[Circle] Area: 78.5\n",
            "[Shape] Drawing Square\n",
            "[Square] Area: 16\n"
          ]
        }
      ]
    },
    {
      "cell_type": "code",
      "source": [
        "# Base Class\n",
        "class Employee:\n",
        "    def __init__(self, name):\n",
        "        self.name = name\n",
        "        print(f\"[Employee] Name: {self.name}\")\n",
        "\n",
        "    def work(self):\n",
        "        print(f\"[Employee] Working: {self.name}\")\n",
        "\n",
        "# Derived Class 1\n",
        "class Manager(Employee):\n",
        "    def __init__(self, name, department):\n",
        "        super().__init__(name)\n",
        "        self.department = department\n",
        "        print(f\"[Manager] Department: {self.department}\")\n",
        "\n",
        "    def manage(self):\n",
        "        print(f\"[Manager] Managing {self.department}\")\n",
        "\n",
        "# Derived Class 2\n",
        "class Developer(Employee):\n",
        "    def __init__(self, name, project):\n",
        "        super().__init__(name)\n",
        "        self.project = project\n",
        "        print(f\"[Developer] Project: {self.project}\")\n",
        "\n",
        "    def code(self):\n",
        "        print(f\"[Developer] Coding for {self.project}\")\n",
        "\n",
        "# Object creation and method calls\n",
        "mgr = Manager(\"Alice\", \"HR\")\n",
        "dev = Developer(\"Bob\", \"AI\")\n",
        "mgr.manage()\n",
        "mgr.work()\n",
        "dev.code()\n",
        "dev.work()"
      ],
      "metadata": {
        "colab": {
          "base_uri": "https://localhost:8080/"
        },
        "id": "I7MJ0AZftfOd",
        "outputId": "39c09c60-aa04-4842-eff7-84397e0bfa72"
      },
      "execution_count": 13,
      "outputs": [
        {
          "output_type": "stream",
          "name": "stdout",
          "text": [
            "[Employee] Name: Alice\n",
            "[Manager] Department: HR\n",
            "[Employee] Name: Bob\n",
            "[Developer] Project: AI\n",
            "[Manager] Managing HR\n",
            "[Employee] Working: Alice\n",
            "[Developer] Coding for AI\n",
            "[Employee] Working: Bob\n"
          ]
        }
      ]
    },
    {
      "cell_type": "code",
      "source": [
        "# Base Class\n",
        "class Vehicle:\n",
        "    def __init__(self, name):\n",
        "        self.name = name\n",
        "        print(f\"[Vehicle] Name: {self.name}\")\n",
        "\n",
        "    def move(self):\n",
        "        print(f\"[Vehicle] Moving: {self.name}\")\n",
        "\n",
        "# Derived Class 1\n",
        "class Bike(Vehicle):\n",
        "    def __init__(self, name, wheels):\n",
        "        super().__init__(name)\n",
        "        self.wheels = wheels\n",
        "        print(f\"[Bike] Wheels: {self.wheels}\")\n",
        "\n",
        "    def ride(self):\n",
        "        print(f\"[Bike] Riding with {self.wheels} wheels\")\n",
        "\n",
        "# Derived Class 2\n",
        "class Bus(Vehicle):\n",
        "    def __init__(self, name, seats):\n",
        "        super().__init__(name)\n",
        "        self.seats = seats\n",
        "        print(f\"[Bus] Seats: {self.seats}\")\n",
        "\n",
        "    def carry_passengers(self):\n",
        "        print(f\"[Bus] Carrying {self.seats} passengers\")\n",
        "\n",
        "# Object creation and method calls\n",
        "bike = Bike(\"MountainBike\", 2)\n",
        "bus = Bus(\"CityBus\", 40)\n",
        "bike.move()\n",
        "bike.ride()\n",
        "bus.move()\n",
        "bus.carry_passengers()"
      ],
      "metadata": {
        "colab": {
          "base_uri": "https://localhost:8080/"
        },
        "id": "iVMG_k9wtfLt",
        "outputId": "e072292b-0294-40e5-fdbe-f65b4733bacc"
      },
      "execution_count": 14,
      "outputs": [
        {
          "output_type": "stream",
          "name": "stdout",
          "text": [
            "[Vehicle] Name: MountainBike\n",
            "[Bike] Wheels: 2\n",
            "[Vehicle] Name: CityBus\n",
            "[Bus] Seats: 40\n",
            "[Vehicle] Moving: MountainBike\n",
            "[Bike] Riding with 2 wheels\n",
            "[Vehicle] Moving: CityBus\n",
            "[Bus] Carrying 40 passengers\n"
          ]
        }
      ]
    },
    {
      "cell_type": "code",
      "source": [],
      "metadata": {
        "id": "tDSW3T48tfJZ"
      },
      "execution_count": null,
      "outputs": []
    }
  ],
  "metadata": {
    "colab": {
      "provenance": []
    },
    "kernelspec": {
      "display_name": "Python 3",
      "name": "python3"
    }
  },
  "nbformat": 4,
  "nbformat_minor": 0
}