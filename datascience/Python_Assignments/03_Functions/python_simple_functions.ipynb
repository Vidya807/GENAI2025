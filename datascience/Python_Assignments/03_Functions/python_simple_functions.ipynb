{
  "cells": [
    {
      "cell_type": "code",
      "source": [
        "def add():\n",
        "  print(\"vidya\")\n",
        "add()"
      ],
      "metadata": {
        "id": "erUv4B_uRszi",
        "colab": {
          "base_uri": "https://localhost:8080/"
        },
        "outputId": "21c6c09b-a7cb-4ba9-b1ee-58a41c8e9b26"
      },
      "execution_count": 35,
      "outputs": [
        {
          "output_type": "stream",
          "name": "stdout",
          "text": [
            "vidya\n"
          ]
        }
      ]
    },
    {
      "cell_type": "code",
      "source": [
        "def add(a,b):\n",
        "  print(\"addition\",a+b)\n",
        "add(\"data\",\"science\")"
      ],
      "metadata": {
        "id": "z_tu_7hIRs2D",
        "colab": {
          "base_uri": "https://localhost:8080/"
        },
        "outputId": "f266d086-251e-4eb7-e188-7ea9667f332f"
      },
      "execution_count": 37,
      "outputs": [
        {
          "output_type": "stream",
          "name": "stdout",
          "text": [
            "addition datascience\n"
          ]
        }
      ]
    },
    {
      "cell_type": "code",
      "source": [
        "def function1(a,b):\n",
        "  return a+b\n",
        "  print(\"test\")"
      ],
      "metadata": {
        "id": "RnAx73t1Rs4y"
      },
      "execution_count": 5,
      "outputs": []
    },
    {
      "cell_type": "code",
      "source": [
        "x=function1(20,20)\n",
        "x"
      ],
      "metadata": {
        "id": "x6mNCfjsRs7T",
        "colab": {
          "base_uri": "https://localhost:8080/"
        },
        "outputId": "79b8a3e7-9d27-4470-e225-5d6da96105fe"
      },
      "execution_count": 38,
      "outputs": [
        {
          "output_type": "execute_result",
          "data": {
            "text/plain": [
              "40"
            ]
          },
          "metadata": {},
          "execution_count": 38
        }
      ]
    },
    {
      "cell_type": "code",
      "source": [
        "def even_or_odd(x):\n",
        "  if x%2==1:\n",
        "    return \"Even\"\n",
        "  else:\n",
        "    return \"Odd\""
      ],
      "metadata": {
        "id": "ACuxNYQXRs97"
      },
      "execution_count": 7,
      "outputs": []
    },
    {
      "cell_type": "code",
      "source": [
        "even_or_odd(10)"
      ],
      "metadata": {
        "id": "W4CZnUvkRtAj",
        "colab": {
          "base_uri": "https://localhost:8080/",
          "height": 36
        },
        "outputId": "38517315-36fd-461c-ffa5-366a0d5ae4b9"
      },
      "execution_count": 8,
      "outputs": [
        {
          "output_type": "execute_result",
          "data": {
            "text/plain": [
              "'Odd'"
            ],
            "application/vnd.google.colaboratory.intrinsic+json": {
              "type": "string"
            }
          },
          "metadata": {},
          "execution_count": 8
        }
      ]
    },
    {
      "cell_type": "code",
      "source": [
        "def factorial(n):\n",
        "    result = 1\n",
        "    for i in range(2, n+1):\n",
        "        result *= i\n",
        "    return result\n",
        "factorial(5)"
      ],
      "metadata": {
        "id": "BPmCD0UCRtDE",
        "colab": {
          "base_uri": "https://localhost:8080/"
        },
        "outputId": "032b5e14-c304-4f39-f4e8-727a9f81f040"
      },
      "execution_count": 9,
      "outputs": [
        {
          "output_type": "execute_result",
          "data": {
            "text/plain": [
              "120"
            ]
          },
          "metadata": {},
          "execution_count": 9
        }
      ]
    },
    {
      "cell_type": "code",
      "source": [
        "def x(a, b, c):\n",
        "    if a >= b and a >= c:\n",
        "        return a\n",
        "    elif b >= a and b >= c:\n",
        "        return b\n",
        "    else:\n",
        "        return c"
      ],
      "metadata": {
        "id": "XKnCH7msRtFs"
      },
      "execution_count": 10,
      "outputs": []
    },
    {
      "cell_type": "code",
      "source": [
        "x(10,20,30)"
      ],
      "metadata": {
        "id": "HJmCVpLGRtI5",
        "colab": {
          "base_uri": "https://localhost:8080/"
        },
        "outputId": "8c3f7f5d-8338-4277-b9e4-cfd2808cf891"
      },
      "execution_count": 11,
      "outputs": [
        {
          "output_type": "execute_result",
          "data": {
            "text/plain": [
              "30"
            ]
          },
          "metadata": {},
          "execution_count": 11
        }
      ]
    },
    {
      "cell_type": "code",
      "source": [
        "def triangle_type(a, b, c):\n",
        "    if a == b == c:\n",
        "        return \"Equilateral\"\n",
        "    elif a == b or b == c or a == c:\n",
        "        return \"Isosceles\"\n",
        "    else:\n",
        "        return \"Scalene\"\n",
        "triangle_type(10,20,20)"
      ],
      "metadata": {
        "id": "AqO9BCtoRtLa",
        "colab": {
          "base_uri": "https://localhost:8080/",
          "height": 36
        },
        "outputId": "1f90cfa7-c717-4bc5-b029-693bca40c461"
      },
      "execution_count": 12,
      "outputs": [
        {
          "output_type": "execute_result",
          "data": {
            "text/plain": [
              "'Isosceles'"
            ],
            "application/vnd.google.colaboratory.intrinsic+json": {
              "type": "string"
            }
          },
          "metadata": {},
          "execution_count": 12
        }
      ]
    },
    {
      "cell_type": "code",
      "source": [
        "def password_strength(pw):\n",
        "    if len(pw) < 6:\n",
        "        return \"Weak\"\n",
        "    elif len(pw) < 10:\n",
        "        return \"Moderate\"\n",
        "    else:\n",
        "        return \"Strong\"\n",
        "password_strength(\"test\")"
      ],
      "metadata": {
        "id": "Hj-Z4fH9RtNz",
        "colab": {
          "base_uri": "https://localhost:8080/",
          "height": 36
        },
        "outputId": "f5c6aeda-0251-42d2-9482-e5525dbcda23"
      },
      "execution_count": 13,
      "outputs": [
        {
          "output_type": "execute_result",
          "data": {
            "text/plain": [
              "'Weak'"
            ],
            "application/vnd.google.colaboratory.intrinsic+json": {
              "type": "string"
            }
          },
          "metadata": {},
          "execution_count": 13
        }
      ]
    },
    {
      "cell_type": "code",
      "source": [
        "def f1(x):\n",
        "  def f2():\n",
        "    return \"Function 2\"\n",
        "  def f3():\n",
        "    return \"Function 3\"\n",
        "  if x==2:\n",
        "    return f2()\n",
        "  else:\n",
        "    return f3()"
      ],
      "metadata": {
        "id": "FCnj_ObERtQj"
      },
      "execution_count": 14,
      "outputs": []
    },
    {
      "cell_type": "code",
      "source": [
        "f1(10)"
      ],
      "metadata": {
        "id": "Q9NUXmHRRtTL",
        "colab": {
          "base_uri": "https://localhost:8080/",
          "height": 36
        },
        "outputId": "4046fe8e-272c-48d2-8926-c4965cded8a3"
      },
      "execution_count": 15,
      "outputs": [
        {
          "output_type": "execute_result",
          "data": {
            "text/plain": [
              "'Function 3'"
            ],
            "application/vnd.google.colaboratory.intrinsic+json": {
              "type": "string"
            }
          },
          "metadata": {},
          "execution_count": 15
        }
      ]
    },
    {
      "cell_type": "code",
      "source": [
        "def add_and_square(a, b):\n",
        "    def square(n):\n",
        "        return n * n\n",
        "    result = a + b\n",
        "    return square(result)\n",
        "add_and_square(10,20)"
      ],
      "metadata": {
        "id": "D6kiQYFrRtV1",
        "colab": {
          "base_uri": "https://localhost:8080/"
        },
        "outputId": "59f8c705-c7d7-4746-de34-ff89f6f96c98"
      },
      "execution_count": 16,
      "outputs": [
        {
          "output_type": "execute_result",
          "data": {
            "text/plain": [
              "900"
            ]
          },
          "metadata": {},
          "execution_count": 16
        }
      ]
    },
    {
      "cell_type": "code",
      "source": [
        "def x(n):\n",
        "    def y(num):\n",
        "        result = 1\n",
        "        for i in range(2, num+1):\n",
        "            result *= i\n",
        "        return result\n",
        "    return y(n)\n",
        "x(5)"
      ],
      "metadata": {
        "id": "Rq4t8fwXRtYi",
        "colab": {
          "base_uri": "https://localhost:8080/"
        },
        "outputId": "6acaadc8-766c-44d6-c7a3-fd21393ff3dc"
      },
      "execution_count": 17,
      "outputs": [
        {
          "output_type": "execute_result",
          "data": {
            "text/plain": [
              "120"
            ]
          },
          "metadata": {},
          "execution_count": 17
        }
      ]
    },
    {
      "cell_type": "code",
      "source": [
        "def fibonacci(n):\n",
        "    def generate():\n",
        "        a, b = 0, 1\n",
        "        for _ in range(n):\n",
        "            yield a\n",
        "            a, b = b, a + b\n",
        "    return list(generate())"
      ],
      "metadata": {
        "id": "6f7sUPjhRtbT"
      },
      "execution_count": 19,
      "outputs": []
    },
    {
      "cell_type": "code",
      "source": [
        "fibonacci(10)"
      ],
      "metadata": {
        "id": "BchaXLQyRtd6",
        "colab": {
          "base_uri": "https://localhost:8080/"
        },
        "outputId": "a4045d5a-0b97-4393-ac3a-437baa2b357b"
      },
      "execution_count": 20,
      "outputs": [
        {
          "output_type": "execute_result",
          "data": {
            "text/plain": [
              "[0, 1, 1, 2, 3, 5, 8, 13, 21, 34]"
            ]
          },
          "metadata": {},
          "execution_count": 20
        }
      ]
    },
    {
      "cell_type": "code",
      "source": [
        "\n"
      ],
      "metadata": {
        "id": "KPxFHb_qRtg4"
      },
      "execution_count": null,
      "outputs": []
    },
    {
      "cell_type": "code",
      "source": [
        "\"madam\"[::-1]"
      ],
      "metadata": {
        "id": "yV2_mEMPRtjY",
        "colab": {
          "base_uri": "https://localhost:8080/",
          "height": 36
        },
        "outputId": "c9315a97-6f6c-47e3-9d40-bbf321bcdaab"
      },
      "execution_count": 21,
      "outputs": [
        {
          "output_type": "execute_result",
          "data": {
            "text/plain": [
              "'madam'"
            ],
            "application/vnd.google.colaboratory.intrinsic+json": {
              "type": "string"
            }
          },
          "metadata": {},
          "execution_count": 21
        }
      ]
    },
    {
      "cell_type": "code",
      "source": [
        "def is_palindrom(x):\n",
        "  return x==x[::-1]"
      ],
      "metadata": {
        "id": "eR9xhDJjRtmI"
      },
      "execution_count": 22,
      "outputs": []
    },
    {
      "cell_type": "code",
      "source": [
        "is_palindrom('book')"
      ],
      "metadata": {
        "id": "f6Tfw7_QRtow",
        "colab": {
          "base_uri": "https://localhost:8080/"
        },
        "outputId": "4468a7f6-e3fb-4e6d-bea9-56da49732e3f"
      },
      "execution_count": 23,
      "outputs": [
        {
          "output_type": "execute_result",
          "data": {
            "text/plain": [
              "False"
            ]
          },
          "metadata": {},
          "execution_count": 23
        }
      ]
    },
    {
      "cell_type": "code",
      "source": [
        "def function1(a,b):\n",
        "  return a+b\n",
        "function1(10,20)"
      ],
      "metadata": {
        "id": "9sbl0lI7RtrY",
        "colab": {
          "base_uri": "https://localhost:8080/"
        },
        "outputId": "c00eeada-85c2-4e0a-8c5b-27681896a9b7"
      },
      "execution_count": 24,
      "outputs": [
        {
          "output_type": "execute_result",
          "data": {
            "text/plain": [
              "30"
            ]
          },
          "metadata": {},
          "execution_count": 24
        }
      ]
    },
    {
      "cell_type": "code",
      "source": [
        "import numpy as np\n",
        "x=lambda x,y:np.sqrt(x**2+y**2)\n",
        "x(2,4)"
      ],
      "metadata": {
        "id": "_uSAbEnwRtuI",
        "colab": {
          "base_uri": "https://localhost:8080/"
        },
        "outputId": "caa5cd87-8d98-4d7b-c8d6-b610d5dd3c6b"
      },
      "execution_count": 25,
      "outputs": [
        {
          "output_type": "execute_result",
          "data": {
            "text/plain": [
              "np.float64(4.47213595499958)"
            ]
          },
          "metadata": {},
          "execution_count": 25
        }
      ]
    },
    {
      "cell_type": "code",
      "source": [
        "is_even = lambda x: x % 2 == 0\n",
        "x=print(is_even(10))"
      ],
      "metadata": {
        "id": "3tD7GUmkRtwp",
        "colab": {
          "base_uri": "https://localhost:8080/"
        },
        "outputId": "5bb2e301-3105-43c8-fd7e-349f5223e062"
      },
      "execution_count": 26,
      "outputs": [
        {
          "output_type": "stream",
          "name": "stdout",
          "text": [
            "True\n"
          ]
        }
      ]
    },
    {
      "cell_type": "code",
      "source": [
        "x=lambda a, b: a if a > b else b\n",
        "x(10,20)"
      ],
      "metadata": {
        "id": "J3d2SOy7RtzY",
        "colab": {
          "base_uri": "https://localhost:8080/"
        },
        "outputId": "bdb525b6-570f-477f-bd0a-446adec14703"
      },
      "execution_count": 27,
      "outputs": [
        {
          "output_type": "execute_result",
          "data": {
            "text/plain": [
              "20"
            ]
          },
          "metadata": {},
          "execution_count": 27
        }
      ]
    },
    {
      "cell_type": "code",
      "source": [
        "x=lambda lst: [x ** 2 for x in lst]\n",
        "x([1,2,3,4])"
      ],
      "metadata": {
        "id": "ItaksK3URt2O",
        "colab": {
          "base_uri": "https://localhost:8080/"
        },
        "outputId": "276615de-440e-4773-c00a-fb2d4c657e89"
      },
      "execution_count": 28,
      "outputs": [
        {
          "output_type": "execute_result",
          "data": {
            "text/plain": [
              "[1, 4, 9, 16]"
            ]
          },
          "metadata": {},
          "execution_count": 28
        }
      ]
    },
    {
      "cell_type": "code",
      "source": [
        "x=lambda x: x ** 0.5\n",
        "x(16)"
      ],
      "metadata": {
        "id": "H2Za-C8HRt5y",
        "colab": {
          "base_uri": "https://localhost:8080/"
        },
        "outputId": "85d7e73e-5c29-4854-acfd-e797f5e81fd8"
      },
      "execution_count": 29,
      "outputs": [
        {
          "output_type": "execute_result",
          "data": {
            "text/plain": [
              "4.0"
            ]
          },
          "metadata": {},
          "execution_count": 29
        }
      ]
    },
    {
      "cell_type": "code",
      "source": [
        "def f1(x):\n",
        "  return (x**2)\n",
        "for i in range(1,10):\n",
        "  f1(i)"
      ],
      "metadata": {
        "id": "-CbCS_swRuER"
      },
      "execution_count": 30,
      "outputs": []
    },
    {
      "cell_type": "code",
      "source": [
        "list(map(f1,range(1,10)))"
      ],
      "metadata": {
        "id": "f4Wpbes-RuHu",
        "colab": {
          "base_uri": "https://localhost:8080/"
        },
        "outputId": "cf0cddb0-4e7e-48a7-b82e-167798ab3e3f"
      },
      "execution_count": 31,
      "outputs": [
        {
          "output_type": "execute_result",
          "data": {
            "text/plain": [
              "[1, 4, 9, 16, 25, 36, 49, 64, 81]"
            ]
          },
          "metadata": {},
          "execution_count": 31
        }
      ]
    },
    {
      "cell_type": "code",
      "source": [
        "list(map(lambda x:x**2,range(1,10)))"
      ],
      "metadata": {
        "id": "Rlht4JihRvIk",
        "colab": {
          "base_uri": "https://localhost:8080/"
        },
        "outputId": "5bd72eb5-0e6a-4cba-a2e2-d6ef832ee89c"
      },
      "execution_count": 32,
      "outputs": [
        {
          "output_type": "execute_result",
          "data": {
            "text/plain": [
              "[1, 4, 9, 16, 25, 36, 49, 64, 81]"
            ]
          },
          "metadata": {},
          "execution_count": 32
        }
      ]
    },
    {
      "cell_type": "code",
      "source": [
        "list(map(lambda x:x.upper(),\"data\"))"
      ],
      "metadata": {
        "id": "RsGcLYpORvLx",
        "colab": {
          "base_uri": "https://localhost:8080/"
        },
        "outputId": "1f757e03-526f-40e4-c334-cf5822415f59"
      },
      "execution_count": 33,
      "outputs": [
        {
          "output_type": "execute_result",
          "data": {
            "text/plain": [
              "['D', 'A', 'T', 'A']"
            ]
          },
          "metadata": {},
          "execution_count": 33
        }
      ]
    },
    {
      "cell_type": "code",
      "source": [],
      "metadata": {
        "id": "LugfLXqwRvOR"
      },
      "execution_count": null,
      "outputs": []
    },
    {
      "cell_type": "code",
      "source": [],
      "metadata": {
        "id": "j-qIunWzRvQ5"
      },
      "execution_count": null,
      "outputs": []
    },
    {
      "cell_type": "code",
      "source": [],
      "metadata": {
        "id": "MQIUyPdeRvUN"
      },
      "execution_count": null,
      "outputs": []
    },
    {
      "cell_type": "code",
      "source": [],
      "metadata": {
        "id": "YO9Jle-IRvW9"
      },
      "execution_count": null,
      "outputs": []
    },
    {
      "cell_type": "code",
      "source": [],
      "metadata": {
        "id": "tcZZOKqHRvZO"
      },
      "execution_count": null,
      "outputs": []
    },
    {
      "cell_type": "code",
      "source": [],
      "metadata": {
        "id": "4kPX9CvwRvdQ"
      },
      "execution_count": null,
      "outputs": []
    },
    {
      "cell_type": "code",
      "source": [],
      "metadata": {
        "id": "elZaPcDzRvf9"
      },
      "execution_count": null,
      "outputs": []
    },
    {
      "cell_type": "code",
      "source": [],
      "metadata": {
        "id": "f1KGAJcBRvjD"
      },
      "execution_count": null,
      "outputs": []
    },
    {
      "cell_type": "code",
      "source": [],
      "metadata": {
        "id": "Ax4hOMQgRvmP"
      },
      "execution_count": null,
      "outputs": []
    },
    {
      "cell_type": "code",
      "source": [],
      "metadata": {
        "id": "pbijAYPaRvpV"
      },
      "execution_count": null,
      "outputs": []
    },
    {
      "cell_type": "code",
      "source": [],
      "metadata": {
        "id": "WubcEqhtRvrn"
      },
      "execution_count": null,
      "outputs": []
    }
  ],
  "metadata": {
    "colab": {
      "provenance": []
    },
    "kernelspec": {
      "display_name": "Python 3",
      "name": "python3"
    }
  },
  "nbformat": 4,
  "nbformat_minor": 0
}