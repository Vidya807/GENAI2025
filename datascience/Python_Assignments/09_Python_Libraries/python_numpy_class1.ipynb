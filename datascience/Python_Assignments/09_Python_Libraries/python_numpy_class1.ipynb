{
  "cells": [
    {
      "cell_type": "code",
      "source": [
        "import numpy as np"
      ],
      "metadata": {
        "id": "WTF4V_VuG6yB"
      },
      "execution_count": null,
      "outputs": []
    },
    {
      "cell_type": "code",
      "source": [
        "list(),str(),tuple(),set(),dict()"
      ],
      "metadata": {
        "id": "ahgCtxb6G606",
        "outputId": "9a6dfd5b-c964-4531-d32e-5970fe323181",
        "colab": {
          "base_uri": "https://localhost:8080/"
        }
      },
      "execution_count": null,
      "outputs": [
        {
          "output_type": "execute_result",
          "data": {
            "text/plain": [
              "([], '', (), set(), {})"
            ]
          },
          "metadata": {},
          "execution_count": 3
        }
      ]
    },
    {
      "cell_type": "code",
      "source": [
        "y=np.array([1,2,3])"
      ],
      "metadata": {
        "id": "27VskxBhG632"
      },
      "execution_count": null,
      "outputs": []
    },
    {
      "cell_type": "code",
      "source": [
        "x=[1,2,3]"
      ],
      "metadata": {
        "id": "GNBQRVJmG66x"
      },
      "execution_count": null,
      "outputs": []
    },
    {
      "cell_type": "code",
      "source": [
        "type(x),type(y)"
      ],
      "metadata": {
        "id": "q35Kyx09G69l",
        "outputId": "6665e124-dd2b-4487-d9b4-7c0563219ec9",
        "colab": {
          "base_uri": "https://localhost:8080/"
        }
      },
      "execution_count": null,
      "outputs": [
        {
          "output_type": "execute_result",
          "data": {
            "text/plain": [
              "(list, numpy.ndarray)"
            ]
          },
          "metadata": {},
          "execution_count": 8
        }
      ]
    },
    {
      "cell_type": "code",
      "source": [
        "x/2"
      ],
      "metadata": {
        "id": "ZUZAOj1KG7Ag",
        "outputId": "7640898a-14b7-4ab7-8408-cdfa602251fe",
        "colab": {
          "base_uri": "https://localhost:8080/",
          "height": 141
        }
      },
      "execution_count": null,
      "outputs": [
        {
          "output_type": "error",
          "ename": "TypeError",
          "evalue": "unsupported operand type(s) for /: 'list' and 'int'",
          "traceback": [
            "\u001b[0;31m---------------------------------------------------------------------------\u001b[0m",
            "\u001b[0;31mTypeError\u001b[0m                                 Traceback (most recent call last)",
            "\u001b[0;32m<ipython-input-9-a9af5bba98c4>\u001b[0m in \u001b[0;36m<cell line: 0>\u001b[0;34m()\u001b[0m\n\u001b[0;32m----> 1\u001b[0;31m \u001b[0mx\u001b[0m\u001b[0;34m/\u001b[0m\u001b[0;36m2\u001b[0m\u001b[0;34m\u001b[0m\u001b[0;34m\u001b[0m\u001b[0m\n\u001b[0m",
            "\u001b[0;31mTypeError\u001b[0m: unsupported operand type(s) for /: 'list' and 'int'"
          ]
        }
      ]
    },
    {
      "cell_type": "code",
      "source": [
        "y/2"
      ],
      "metadata": {
        "id": "BFILaOyjG7DT",
        "outputId": "a0c373b3-d612-45db-9d3b-8d8df5ecfaee",
        "colab": {
          "base_uri": "https://localhost:8080/"
        }
      },
      "execution_count": null,
      "outputs": [
        {
          "output_type": "execute_result",
          "data": {
            "text/plain": [
              "array([0.5, 1. , 1.5])"
            ]
          },
          "metadata": {},
          "execution_count": 10
        }
      ]
    },
    {
      "cell_type": "code",
      "source": [
        "x=[1,5,19,\"data science\"]"
      ],
      "metadata": {
        "id": "2olkgynjG7GL"
      },
      "execution_count": null,
      "outputs": []
    },
    {
      "cell_type": "code",
      "source": [
        "x"
      ],
      "metadata": {
        "id": "ULaK_gmuG7It",
        "outputId": "be92e229-3566-4c08-af3f-034abbfd6e9f",
        "colab": {
          "base_uri": "https://localhost:8080/"
        }
      },
      "execution_count": null,
      "outputs": [
        {
          "output_type": "execute_result",
          "data": {
            "text/plain": [
              "[1, 2, 3, 'data science']"
            ]
          },
          "metadata": {},
          "execution_count": 12
        }
      ]
    },
    {
      "cell_type": "code",
      "source": [],
      "metadata": {
        "id": "2DlAgmyxIH2C"
      },
      "execution_count": null,
      "outputs": []
    },
    {
      "cell_type": "code",
      "source": [
        "type(x[0]),type(x[1]),type(x[2]),type(x[3])"
      ],
      "metadata": {
        "id": "aioOe2K_G7Lm",
        "outputId": "ea3812bd-4af2-445c-cebe-f588f8f338dc",
        "colab": {
          "base_uri": "https://localhost:8080/"
        }
      },
      "execution_count": null,
      "outputs": [
        {
          "output_type": "execute_result",
          "data": {
            "text/plain": [
              "(int, int, int, str)"
            ]
          },
          "metadata": {},
          "execution_count": 15
        }
      ]
    },
    {
      "cell_type": "code",
      "source": [
        "y=np.array([1,35,7,'data science'])"
      ],
      "metadata": {
        "id": "yE8ZcYtLG7Om"
      },
      "execution_count": null,
      "outputs": []
    },
    {
      "cell_type": "code",
      "source": [
        "type(y[0]),type(y[1]),type(y[2]),type(y[3])"
      ],
      "metadata": {
        "id": "AEZVVJzwG7RW",
        "outputId": "21fc298f-75d6-4506-ab07-cb0e1f2cc943",
        "colab": {
          "base_uri": "https://localhost:8080/"
        }
      },
      "execution_count": null,
      "outputs": [
        {
          "output_type": "execute_result",
          "data": {
            "text/plain": [
              "(numpy.str_, numpy.str_, numpy.str_, numpy.str_)"
            ]
          },
          "metadata": {},
          "execution_count": 26
        }
      ]
    },
    {
      "cell_type": "code",
      "source": [
        "for i in range(1,10):\n",
        "  print(np.random.randint(0,8))"
      ],
      "metadata": {
        "id": "4fV5lWm8G7Uw",
        "outputId": "c258244b-b34d-4233-c1bc-d033547a9433",
        "colab": {
          "base_uri": "https://localhost:8080/"
        }
      },
      "execution_count": null,
      "outputs": [
        {
          "output_type": "stream",
          "name": "stdout",
          "text": [
            "7\n",
            "2\n",
            "2\n",
            "3\n",
            "2\n",
            "3\n",
            "1\n",
            "1\n",
            "2\n"
          ]
        }
      ]
    },
    {
      "cell_type": "code",
      "source": [
        "np.random.randint(0,10,(5,5))"
      ],
      "metadata": {
        "id": "qVtxm1MZI3uc",
        "outputId": "ce417aef-d495-4755-efbd-3d6d87cd4bcc",
        "colab": {
          "base_uri": "https://localhost:8080/"
        }
      },
      "execution_count": null,
      "outputs": [
        {
          "output_type": "execute_result",
          "data": {
            "text/plain": [
              "array([[8, 8, 5, 0, 0],\n",
              "       [7, 6, 5, 9, 5],\n",
              "       [6, 3, 4, 2, 8],\n",
              "       [2, 9, 8, 6, 3],\n",
              "       [9, 7, 7, 6, 1]])"
            ]
          },
          "metadata": {},
          "execution_count": 28
        }
      ]
    },
    {
      "cell_type": "code",
      "source": [
        "data=np.random.randint(0,60,(5,4))"
      ],
      "metadata": {
        "id": "jTD9OdVlI3xg"
      },
      "execution_count": null,
      "outputs": []
    },
    {
      "cell_type": "code",
      "source": [
        "data"
      ],
      "metadata": {
        "id": "ORLGBl3sI30X",
        "outputId": "903cb1a5-d895-49f7-98bd-df8f36a9e138",
        "colab": {
          "base_uri": "https://localhost:8080/"
        }
      },
      "execution_count": null,
      "outputs": [
        {
          "output_type": "execute_result",
          "data": {
            "text/plain": [
              "array([[35,  5, 12, 58],\n",
              "       [39,  3,  6, 33],\n",
              "       [21, 53, 16, 15],\n",
              "       [26, 35, 43, 59],\n",
              "       [42, 57, 38,  6]])"
            ]
          },
          "metadata": {},
          "execution_count": 44
        }
      ]
    },
    {
      "cell_type": "code",
      "source": [
        "data[0:3,2:3]"
      ],
      "metadata": {
        "id": "9PMy0LO6I33M",
        "outputId": "3f2fcb76-d8e8-4640-fab7-daa1783cb392",
        "colab": {
          "base_uri": "https://localhost:8080/"
        }
      },
      "execution_count": null,
      "outputs": [
        {
          "output_type": "execute_result",
          "data": {
            "text/plain": [
              "array([[12],\n",
              "       [ 6],\n",
              "       [16]])"
            ]
          },
          "metadata": {},
          "execution_count": 46
        }
      ]
    },
    {
      "cell_type": "code",
      "source": [
        "data[-5:-3,-4:-2]"
      ],
      "metadata": {
        "id": "cuMKrxssI356",
        "outputId": "77aa4e78-428e-46c5-b35e-6c528dbc0ea3",
        "colab": {
          "base_uri": "https://localhost:8080/"
        }
      },
      "execution_count": null,
      "outputs": [
        {
          "output_type": "execute_result",
          "data": {
            "text/plain": [
              "array([[35,  5],\n",
              "       [39,  3]])"
            ]
          },
          "metadata": {},
          "execution_count": 50
        }
      ]
    },
    {
      "cell_type": "code",
      "source": [
        "data[1:4,2:4]"
      ],
      "metadata": {
        "id": "3f5I2JG9KkB5",
        "outputId": "3299e01e-810f-47a3-b2ef-0b7894288578",
        "colab": {
          "base_uri": "https://localhost:8080/"
        }
      },
      "execution_count": null,
      "outputs": [
        {
          "output_type": "execute_result",
          "data": {
            "text/plain": [
              "array([[ 6, 33],\n",
              "       [16, 15],\n",
              "       [43, 59]])"
            ]
          },
          "metadata": {},
          "execution_count": 51
        }
      ]
    },
    {
      "cell_type": "code",
      "source": [
        "data=np.random.randint(0,10,(5,5))"
      ],
      "metadata": {
        "id": "IJg-9FOpKkE9"
      },
      "execution_count": null,
      "outputs": []
    },
    {
      "cell_type": "code",
      "source": [
        "data"
      ],
      "metadata": {
        "id": "pTZpsz7gKkIK",
        "outputId": "d541cf6e-3f7e-4122-fbdb-8b5ff31f1248",
        "colab": {
          "base_uri": "https://localhost:8080/"
        }
      },
      "execution_count": null,
      "outputs": [
        {
          "output_type": "execute_result",
          "data": {
            "text/plain": [
              "array([[6, 7, 2, 5, 5],\n",
              "       [5, 3, 8, 2, 6],\n",
              "       [8, 1, 9, 0, 3],\n",
              "       [4, 1, 6, 9, 0],\n",
              "       [3, 8, 4, 2, 6]])"
            ]
          },
          "metadata": {},
          "execution_count": 53
        }
      ]
    },
    {
      "cell_type": "code",
      "source": [
        "data[2:5,3:4]"
      ],
      "metadata": {
        "id": "ExdJJo3hKkKv",
        "outputId": "be0ef207-35c3-41ec-b437-64058a7a3c9d",
        "colab": {
          "base_uri": "https://localhost:8080/"
        }
      },
      "execution_count": null,
      "outputs": [
        {
          "output_type": "execute_result",
          "data": {
            "text/plain": [
              "array([[0],\n",
              "       [9],\n",
              "       [2]])"
            ]
          },
          "metadata": {},
          "execution_count": 54
        }
      ]
    },
    {
      "cell_type": "code",
      "source": [
        "data[-4:-1,-3:-2]"
      ],
      "metadata": {
        "id": "xMwcqTGCKkNo",
        "outputId": "41f9b1e1-6b4d-4378-9fff-47efd8f0ee6e",
        "colab": {
          "base_uri": "https://localhost:8080/"
        }
      },
      "execution_count": null,
      "outputs": [
        {
          "output_type": "execute_result",
          "data": {
            "text/plain": [
              "array([[8],\n",
              "       [9],\n",
              "       [6]])"
            ]
          },
          "metadata": {},
          "execution_count": 55
        }
      ]
    },
    {
      "cell_type": "code",
      "source": [
        "data[4:5,2:5]"
      ],
      "metadata": {
        "id": "YAztFAKqKkQf",
        "outputId": "f8503f15-3f7d-4362-830b-f674828ce09f",
        "colab": {
          "base_uri": "https://localhost:8080/"
        }
      },
      "execution_count": null,
      "outputs": [
        {
          "output_type": "execute_result",
          "data": {
            "text/plain": [
              "array([[4, 2, 6]])"
            ]
          },
          "metadata": {},
          "execution_count": 56
        }
      ]
    },
    {
      "cell_type": "code",
      "source": [
        "data[0,:]"
      ],
      "metadata": {
        "id": "LCNkA-ScKkT9",
        "outputId": "c6641b34-013e-43bd-d449-5b3184b61ce1",
        "colab": {
          "base_uri": "https://localhost:8080/"
        }
      },
      "execution_count": null,
      "outputs": [
        {
          "output_type": "execute_result",
          "data": {
            "text/plain": [
              "array([6, 7, 2, 5, 5])"
            ]
          },
          "metadata": {},
          "execution_count": 57
        }
      ]
    },
    {
      "cell_type": "code",
      "source": [
        "data[:,0]"
      ],
      "metadata": {
        "id": "GREeBYmULoNn",
        "outputId": "c6f380d7-9256-4098-8a03-6c102dc331bc",
        "colab": {
          "base_uri": "https://localhost:8080/"
        }
      },
      "execution_count": null,
      "outputs": [
        {
          "output_type": "execute_result",
          "data": {
            "text/plain": [
              "array([6, 5, 8, 4, 3])"
            ]
          },
          "metadata": {},
          "execution_count": 67
        }
      ]
    },
    {
      "cell_type": "code",
      "source": [
        "data.shape"
      ],
      "metadata": {
        "id": "XxeUVCXsLoQ5",
        "outputId": "e6f0f6c3-3804-4984-b050-c166c5532e89",
        "colab": {
          "base_uri": "https://localhost:8080/"
        }
      },
      "execution_count": null,
      "outputs": [
        {
          "output_type": "execute_result",
          "data": {
            "text/plain": [
              "(5, 5)"
            ]
          },
          "metadata": {},
          "execution_count": 68
        }
      ]
    },
    {
      "cell_type": "code",
      "source": [
        "data.T"
      ],
      "metadata": {
        "id": "SG16ToXnMVVo",
        "outputId": "bd4187c4-e2aa-4f94-93ba-6e33c6384232",
        "colab": {
          "base_uri": "https://localhost:8080/"
        }
      },
      "execution_count": null,
      "outputs": [
        {
          "output_type": "execute_result",
          "data": {
            "text/plain": [
              "array([[6, 5, 8, 4, 3],\n",
              "       [7, 3, 1, 1, 8],\n",
              "       [2, 8, 9, 6, 4],\n",
              "       [5, 2, 0, 9, 2],\n",
              "       [5, 6, 3, 0, 6]])"
            ]
          },
          "metadata": {},
          "execution_count": 70
        }
      ]
    },
    {
      "cell_type": "code",
      "source": [
        "data.size"
      ],
      "metadata": {
        "id": "JeQDM2v9MVYS",
        "outputId": "3317ac79-8530-4a1f-b0a2-90934a568d59",
        "colab": {
          "base_uri": "https://localhost:8080/"
        }
      },
      "execution_count": null,
      "outputs": [
        {
          "output_type": "execute_result",
          "data": {
            "text/plain": [
              "25"
            ]
          },
          "metadata": {},
          "execution_count": 71
        }
      ]
    },
    {
      "cell_type": "code",
      "source": [
        "data*2"
      ],
      "metadata": {
        "id": "pOb1z0VTMgi1",
        "outputId": "153debc8-cc55-4c00-806d-1a7bc71a1fc9",
        "colab": {
          "base_uri": "https://localhost:8080/"
        }
      },
      "execution_count": null,
      "outputs": [
        {
          "output_type": "execute_result",
          "data": {
            "text/plain": [
              "array([[12, 14,  4, 10, 10],\n",
              "       [10,  6, 16,  4, 12],\n",
              "       [16,  2, 18,  0,  6],\n",
              "       [ 8,  2, 12, 18,  0],\n",
              "       [ 6, 16,  8,  4, 12]])"
            ]
          },
          "metadata": {},
          "execution_count": 72
        }
      ]
    },
    {
      "cell_type": "code",
      "source": [
        "data+2"
      ],
      "metadata": {
        "id": "fyGRQEfUMgmL",
        "outputId": "1b5f77b1-02ef-4f45-bc42-10a72451e8ac",
        "colab": {
          "base_uri": "https://localhost:8080/"
        }
      },
      "execution_count": null,
      "outputs": [
        {
          "output_type": "execute_result",
          "data": {
            "text/plain": [
              "array([[ 8,  9,  4,  7,  7],\n",
              "       [ 7,  5, 10,  4,  8],\n",
              "       [10,  3, 11,  2,  5],\n",
              "       [ 6,  3,  8, 11,  2],\n",
              "       [ 5, 10,  6,  4,  8]])"
            ]
          },
          "metadata": {},
          "execution_count": 73
        }
      ]
    },
    {
      "cell_type": "code",
      "source": [
        "data-2"
      ],
      "metadata": {
        "id": "8vaOCRXSMVan",
        "outputId": "b9c164d8-4a20-4c1e-9beb-c6455d673395",
        "colab": {
          "base_uri": "https://localhost:8080/"
        }
      },
      "execution_count": null,
      "outputs": [
        {
          "output_type": "execute_result",
          "data": {
            "text/plain": [
              "array([[ 4,  5,  0,  3,  3],\n",
              "       [ 3,  1,  6,  0,  4],\n",
              "       [ 6, -1,  7, -2,  1],\n",
              "       [ 2, -1,  4,  7, -2],\n",
              "       [ 1,  6,  2,  0,  4]])"
            ]
          },
          "metadata": {},
          "execution_count": 74
        }
      ]
    },
    {
      "cell_type": "code",
      "source": [
        "data/2"
      ],
      "metadata": {
        "id": "tU7VQIeHM0Fn",
        "outputId": "fb46d136-fb2b-41c0-d899-7205547d49d3",
        "colab": {
          "base_uri": "https://localhost:8080/"
        }
      },
      "execution_count": null,
      "outputs": [
        {
          "output_type": "execute_result",
          "data": {
            "text/plain": [
              "array([[3. , 3.5, 1. , 2.5, 2.5],\n",
              "       [2.5, 1.5, 4. , 1. , 3. ],\n",
              "       [4. , 0.5, 4.5, 0. , 1.5],\n",
              "       [2. , 0.5, 3. , 4.5, 0. ],\n",
              "       [1.5, 4. , 2. , 1. , 3. ]])"
            ]
          },
          "metadata": {},
          "execution_count": 75
        }
      ]
    },
    {
      "cell_type": "code",
      "source": [
        "data//2"
      ],
      "metadata": {
        "id": "3p07G-XmM0IS",
        "outputId": "ace15af8-2dfc-4f90-a337-caeb99b25e0f",
        "colab": {
          "base_uri": "https://localhost:8080/"
        }
      },
      "execution_count": null,
      "outputs": [
        {
          "output_type": "execute_result",
          "data": {
            "text/plain": [
              "array([[3, 3, 1, 2, 2],\n",
              "       [2, 1, 4, 1, 3],\n",
              "       [4, 0, 4, 0, 1],\n",
              "       [2, 0, 3, 4, 0],\n",
              "       [1, 4, 2, 1, 3]])"
            ]
          },
          "metadata": {},
          "execution_count": 76
        }
      ]
    },
    {
      "cell_type": "code",
      "source": [
        "data**2"
      ],
      "metadata": {
        "id": "F-uXcQ26M0L2",
        "outputId": "6b1b49b7-8516-4fbf-9536-843e21c06b6e",
        "colab": {
          "base_uri": "https://localhost:8080/"
        }
      },
      "execution_count": null,
      "outputs": [
        {
          "output_type": "execute_result",
          "data": {
            "text/plain": [
              "array([[36, 49,  4, 25, 25],\n",
              "       [25,  9, 64,  4, 36],\n",
              "       [64,  1, 81,  0,  9],\n",
              "       [16,  1, 36, 81,  0],\n",
              "       [ 9, 64, 16,  4, 36]])"
            ]
          },
          "metadata": {},
          "execution_count": 77
        }
      ]
    },
    {
      "cell_type": "code",
      "source": [
        "x=np.random.randint(0,5,(2,3))\n",
        "y=np.random.randint(0,6,(2,3))"
      ],
      "metadata": {
        "id": "FbScgy7EM7Tl"
      },
      "execution_count": null,
      "outputs": []
    },
    {
      "cell_type": "code",
      "source": [
        "x"
      ],
      "metadata": {
        "id": "ND1ylMw8M7WI",
        "outputId": "9bcfca28-1702-4af7-dbc1-2957958d3062",
        "colab": {
          "base_uri": "https://localhost:8080/"
        }
      },
      "execution_count": null,
      "outputs": [
        {
          "output_type": "execute_result",
          "data": {
            "text/plain": [
              "array([[2, 4, 4],\n",
              "       [2, 2, 0]])"
            ]
          },
          "metadata": {},
          "execution_count": 80
        }
      ]
    },
    {
      "cell_type": "code",
      "source": [
        "y"
      ],
      "metadata": {
        "id": "1LOV6qGdM7Zm",
        "outputId": "cb20cd3a-ceae-4850-f924-ef320959d376",
        "colab": {
          "base_uri": "https://localhost:8080/"
        }
      },
      "execution_count": null,
      "outputs": [
        {
          "output_type": "execute_result",
          "data": {
            "text/plain": [
              "array([[4, 2, 3],\n",
              "       [1, 5, 5]])"
            ]
          },
          "metadata": {},
          "execution_count": 81
        }
      ]
    },
    {
      "cell_type": "code",
      "source": [
        "np.add(x,2)"
      ],
      "metadata": {
        "id": "hd2q-QOMNH1Z",
        "outputId": "587f50c6-5324-42d4-87d9-021d82e1e398",
        "colab": {
          "base_uri": "https://localhost:8080/"
        }
      },
      "execution_count": null,
      "outputs": [
        {
          "output_type": "execute_result",
          "data": {
            "text/plain": [
              "array([[4, 6, 6],\n",
              "       [4, 4, 2]])"
            ]
          },
          "metadata": {},
          "execution_count": 82
        }
      ]
    },
    {
      "cell_type": "code",
      "source": [
        "np.multiply(y,2)"
      ],
      "metadata": {
        "id": "sRquu-TxNH3_",
        "outputId": "7dcf42dc-5d0d-4e76-f6fd-72375560e04e",
        "colab": {
          "base_uri": "https://localhost:8080/"
        }
      },
      "execution_count": null,
      "outputs": [
        {
          "output_type": "execute_result",
          "data": {
            "text/plain": [
              "array([[ 8,  4,  6],\n",
              "       [ 2, 10, 10]])"
            ]
          },
          "metadata": {},
          "execution_count": 83
        }
      ]
    },
    {
      "cell_type": "code",
      "source": [
        "np.divide(x,5)"
      ],
      "metadata": {
        "id": "GfzWi6bmNH68",
        "outputId": "4220646f-7487-445a-962b-878d38a8e4f0",
        "colab": {
          "base_uri": "https://localhost:8080/"
        }
      },
      "execution_count": null,
      "outputs": [
        {
          "output_type": "execute_result",
          "data": {
            "text/plain": [
              "array([[0.4, 0.8, 0.8],\n",
              "       [0.4, 0.4, 0. ]])"
            ]
          },
          "metadata": {},
          "execution_count": 84
        }
      ]
    },
    {
      "cell_type": "code",
      "source": [
        "np.floor_divide(x,3)"
      ],
      "metadata": {
        "id": "MfvP7lHkNH-T",
        "outputId": "c01d0a70-886b-4f31-e24b-67de455fbd74",
        "colab": {
          "base_uri": "https://localhost:8080/"
        }
      },
      "execution_count": null,
      "outputs": [
        {
          "output_type": "execute_result",
          "data": {
            "text/plain": [
              "array([[0, 1, 1],\n",
              "       [0, 0, 0]])"
            ]
          },
          "metadata": {},
          "execution_count": 85
        }
      ]
    },
    {
      "cell_type": "code",
      "source": [
        "np.exp(x,)"
      ],
      "metadata": {
        "id": "SuKM9oKpNe9_",
        "outputId": "0525cdb4-004c-46b3-ac3c-534cfbe11b92",
        "colab": {
          "base_uri": "https://localhost:8080/"
        }
      },
      "execution_count": null,
      "outputs": [
        {
          "output_type": "execute_result",
          "data": {
            "text/plain": [
              "array([[ 7.3890561 , 54.59815003, 54.59815003],\n",
              "       [ 7.3890561 ,  7.3890561 ,  1.        ]])"
            ]
          },
          "metadata": {},
          "execution_count": 87
        }
      ]
    },
    {
      "cell_type": "code",
      "source": [
        "np.pow(x,3)"
      ],
      "metadata": {
        "id": "uJyo-RxMNfA8",
        "outputId": "ab247c2b-a2b6-459f-f045-2d6ba4b6d27e",
        "colab": {
          "base_uri": "https://localhost:8080/"
        }
      },
      "execution_count": null,
      "outputs": [
        {
          "output_type": "execute_result",
          "data": {
            "text/plain": [
              "array([[ 8, 64, 64],\n",
              "       [ 8,  8,  0]])"
            ]
          },
          "metadata": {},
          "execution_count": 88
        }
      ]
    },
    {
      "cell_type": "code",
      "source": [
        "np.random.rand(5,4)"
      ],
      "metadata": {
        "id": "S7fDINrXNfDg",
        "outputId": "81531970-daf3-4b17-a042-d17018eb09e2",
        "colab": {
          "base_uri": "https://localhost:8080/"
        }
      },
      "execution_count": null,
      "outputs": [
        {
          "output_type": "execute_result",
          "data": {
            "text/plain": [
              "array([[0.99009364, 0.94660461, 0.05183867, 0.25782633],\n",
              "       [0.22535328, 0.8655541 , 0.63150269, 0.83468726],\n",
              "       [0.9443004 , 0.88517542, 0.27526294, 0.70714412],\n",
              "       [0.24411039, 0.78603641, 0.02680558, 0.51977012],\n",
              "       [0.55229914, 0.06069701, 0.17371884, 0.27708627]])"
            ]
          },
          "metadata": {},
          "execution_count": 92
        }
      ]
    },
    {
      "cell_type": "code",
      "source": [
        "np.random.rand(5,5)"
      ],
      "metadata": {
        "id": "pTXvZtdtRGmN",
        "outputId": "32f9921f-57f7-4f9a-f286-2196f6b8fb4e",
        "colab": {
          "base_uri": "https://localhost:8080/"
        }
      },
      "execution_count": null,
      "outputs": [
        {
          "output_type": "execute_result",
          "data": {
            "text/plain": [
              "array([[0.83868103, 0.17698782, 0.58414067, 0.65153282, 0.61791679],\n",
              "       [0.5413374 , 0.34320165, 0.66662196, 0.56290811, 0.19582029],\n",
              "       [0.55047807, 0.84773273, 0.67163448, 0.81067366, 0.04535455],\n",
              "       [0.2012757 , 0.3962808 , 0.34969444, 0.12500272, 0.08156589],\n",
              "       [0.56695053, 0.99816904, 0.22359756, 0.15739145, 0.51374823]])"
            ]
          },
          "metadata": {},
          "execution_count": 115
        }
      ]
    },
    {
      "cell_type": "code",
      "source": [
        "np.random.randn(5,5).std()"
      ],
      "metadata": {
        "id": "4mn67m39RJdP",
        "outputId": "2102d87c-cefa-45ef-dd3f-4e920da80c44",
        "colab": {
          "base_uri": "https://localhost:8080/"
        }
      },
      "execution_count": null,
      "outputs": [
        {
          "output_type": "execute_result",
          "data": {
            "text/plain": [
              "np.float64(1.1101519234879056)"
            ]
          },
          "metadata": {},
          "execution_count": 116
        }
      ]
    },
    {
      "cell_type": "code",
      "source": [
        "np.eye(2)"
      ],
      "metadata": {
        "id": "XfeA_j9jNfG8",
        "outputId": "6ee970b8-26cd-454a-f3a4-8ebaa991af8d",
        "colab": {
          "base_uri": "https://localhost:8080/"
        }
      },
      "execution_count": null,
      "outputs": [
        {
          "output_type": "execute_result",
          "data": {
            "text/plain": [
              "array([[1., 0.],\n",
              "       [0., 1.]])"
            ]
          },
          "metadata": {},
          "execution_count": 94
        }
      ]
    },
    {
      "cell_type": "code",
      "source": [
        "np.zeros(2)"
      ],
      "metadata": {
        "id": "uyBmRANDN8GH",
        "outputId": "8bc82643-1b02-4dec-dfe4-351fc0fc9526",
        "colab": {
          "base_uri": "https://localhost:8080/"
        }
      },
      "execution_count": null,
      "outputs": [
        {
          "output_type": "execute_result",
          "data": {
            "text/plain": [
              "array([0., 0.])"
            ]
          },
          "metadata": {},
          "execution_count": 95
        }
      ]
    },
    {
      "cell_type": "code",
      "source": [
        "np.zeros((5,6))"
      ],
      "metadata": {
        "id": "ZyTXt4dCN8JC",
        "outputId": "ab61b215-a1ff-40c9-9f48-5c113875bc5a",
        "colab": {
          "base_uri": "https://localhost:8080/"
        }
      },
      "execution_count": null,
      "outputs": [
        {
          "output_type": "execute_result",
          "data": {
            "text/plain": [
              "array([[0., 0., 0., 0., 0., 0.],\n",
              "       [0., 0., 0., 0., 0., 0.],\n",
              "       [0., 0., 0., 0., 0., 0.],\n",
              "       [0., 0., 0., 0., 0., 0.],\n",
              "       [0., 0., 0., 0., 0., 0.]])"
            ]
          },
          "metadata": {},
          "execution_count": 96
        }
      ]
    },
    {
      "cell_type": "code",
      "source": [
        "np.ones(2)"
      ],
      "metadata": {
        "id": "4TPuAAoAN8L9",
        "outputId": "8f9a0051-5299-4fdf-b6a9-5bfb55c0cb4f",
        "colab": {
          "base_uri": "https://localhost:8080/"
        }
      },
      "execution_count": null,
      "outputs": [
        {
          "output_type": "execute_result",
          "data": {
            "text/plain": [
              "array([1., 1.])"
            ]
          },
          "metadata": {},
          "execution_count": 97
        }
      ]
    },
    {
      "cell_type": "code",
      "source": [
        "np.zeros((5,10))"
      ],
      "metadata": {
        "id": "V1dMRH6zN8Ox",
        "outputId": "60054d97-f5c1-4d9f-8b15-0ae1fa43c16c",
        "colab": {
          "base_uri": "https://localhost:8080/"
        }
      },
      "execution_count": null,
      "outputs": [
        {
          "output_type": "execute_result",
          "data": {
            "text/plain": [
              "array([[0., 0., 0., 0., 0., 0., 0., 0., 0., 0.],\n",
              "       [0., 0., 0., 0., 0., 0., 0., 0., 0., 0.],\n",
              "       [0., 0., 0., 0., 0., 0., 0., 0., 0., 0.],\n",
              "       [0., 0., 0., 0., 0., 0., 0., 0., 0., 0.],\n",
              "       [0., 0., 0., 0., 0., 0., 0., 0., 0., 0.]])"
            ]
          },
          "metadata": {},
          "execution_count": 101
        }
      ]
    },
    {
      "cell_type": "code",
      "source": [
        "data=np.random.randint(0,5,(5,5))"
      ],
      "metadata": {
        "id": "7PtFfMSYOXqz"
      },
      "execution_count": null,
      "outputs": []
    },
    {
      "cell_type": "code",
      "source": [
        "data"
      ],
      "metadata": {
        "id": "ITcG_Bx6OXtV",
        "outputId": "d268d641-1011-49f4-de17-655c50b5af5a",
        "colab": {
          "base_uri": "https://localhost:8080/"
        }
      },
      "execution_count": null,
      "outputs": [
        {
          "output_type": "execute_result",
          "data": {
            "text/plain": [
              "array([[3, 4, 1, 3, 1],\n",
              "       [2, 3, 1, 3, 2],\n",
              "       [4, 0, 4, 1, 4],\n",
              "       [3, 1, 0, 0, 2],\n",
              "       [1, 4, 1, 3, 4]])"
            ]
          },
          "metadata": {},
          "execution_count": 103
        }
      ]
    },
    {
      "cell_type": "code",
      "source": [
        "print(data.sum())\n",
        "print(data.min())\n",
        "print(data.max())"
      ],
      "metadata": {
        "id": "iOesM7KuOXwz",
        "outputId": "6455f53a-076d-4710-f4c2-24ed1e0a6f83",
        "colab": {
          "base_uri": "https://localhost:8080/"
        }
      },
      "execution_count": null,
      "outputs": [
        {
          "output_type": "stream",
          "name": "stdout",
          "text": [
            "55\n",
            "0\n",
            "4\n"
          ]
        }
      ]
    },
    {
      "cell_type": "code",
      "source": [
        "data.argmax()"
      ],
      "metadata": {
        "id": "OruxHu3oOzIo",
        "outputId": "72667dce-49f3-4274-860a-a7a004ea01b4",
        "colab": {
          "base_uri": "https://localhost:8080/"
        }
      },
      "execution_count": null,
      "outputs": [
        {
          "output_type": "execute_result",
          "data": {
            "text/plain": [
              "np.int64(1)"
            ]
          },
          "metadata": {},
          "execution_count": 105
        }
      ]
    },
    {
      "cell_type": "code",
      "source": [
        "data=np.random.randint(0,6,(3,3))"
      ],
      "metadata": {
        "id": "3tdQGT3FOzLP"
      },
      "execution_count": null,
      "outputs": []
    },
    {
      "cell_type": "code",
      "source": [
        "data"
      ],
      "metadata": {
        "id": "svqpcb4oOzNx",
        "outputId": "13c7549d-8e4a-4d63-fcac-3de194c08545",
        "colab": {
          "base_uri": "https://localhost:8080/"
        }
      },
      "execution_count": null,
      "outputs": [
        {
          "output_type": "execute_result",
          "data": {
            "text/plain": [
              "array([[3, 4, 1, 3, 1],\n",
              "       [2, 3, 1, 3, 2],\n",
              "       [4, 0, 4, 1, 4],\n",
              "       [3, 1, 0, 0, 2],\n",
              "       [1, 4, 1, 3, 4]])"
            ]
          },
          "metadata": {},
          "execution_count": 106
        }
      ]
    },
    {
      "cell_type": "code",
      "source": [
        "data.sum(axis=1)"
      ],
      "metadata": {
        "id": "-Cn3zDTiOzRX",
        "outputId": "c7105c3d-fcb2-4cec-91a9-f698c5c4ac88",
        "colab": {
          "base_uri": "https://localhost:8080/"
        }
      },
      "execution_count": null,
      "outputs": [
        {
          "output_type": "execute_result",
          "data": {
            "text/plain": [
              "array([12, 11, 13,  6, 13])"
            ]
          },
          "metadata": {},
          "execution_count": 107
        }
      ]
    },
    {
      "cell_type": "code",
      "source": [
        "data.sum(axis=0)"
      ],
      "metadata": {
        "id": "2HzzPSshPX36",
        "outputId": "96bd9f08-89e4-406b-c318-026edb9a21fd",
        "colab": {
          "base_uri": "https://localhost:8080/"
        }
      },
      "execution_count": null,
      "outputs": [
        {
          "output_type": "execute_result",
          "data": {
            "text/plain": [
              "array([13, 12,  7, 10, 13])"
            ]
          },
          "metadata": {},
          "execution_count": 108
        }
      ]
    },
    {
      "cell_type": "code",
      "source": [
        "data.argmin(axis=1)"
      ],
      "metadata": {
        "id": "uRR0bAd7PYG7",
        "outputId": "83e7075a-e803-4b4c-e53c-64dc2bc3b6dc",
        "colab": {
          "base_uri": "https://localhost:8080/"
        }
      },
      "execution_count": null,
      "outputs": [
        {
          "output_type": "execute_result",
          "data": {
            "text/plain": [
              "array([2, 2, 1, 2, 0])"
            ]
          },
          "metadata": {},
          "execution_count": 110
        }
      ]
    },
    {
      "cell_type": "code",
      "source": [
        "data.max(axis=0)"
      ],
      "metadata": {
        "id": "vt_9u89iQFWE",
        "outputId": "22056323-dc35-469c-cd29-845fc3dea644",
        "colab": {
          "base_uri": "https://localhost:8080/"
        }
      },
      "execution_count": null,
      "outputs": [
        {
          "output_type": "execute_result",
          "data": {
            "text/plain": [
              "array([4, 4, 4, 3, 4])"
            ]
          },
          "metadata": {},
          "execution_count": 113
        }
      ]
    }
  ],
  "metadata": {
    "colab": {
      "toc_visible": true,
      "provenance": []
    },
    "kernelspec": {
      "display_name": "Python 3",
      "name": "python3"
    }
  },
  "nbformat": 4,
  "nbformat_minor": 0
}